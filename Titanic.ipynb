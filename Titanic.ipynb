{
 "cells": [
  {
   "cell_type": "markdown",
   "metadata": {},
   "source": [
    "# Machine Learning on Kaggle Titanic Data\n",
    "\n",
    "www.kaggle.com/c/titanic"
   ]
  },
  {
   "cell_type": "code",
   "execution_count": 1,
   "metadata": {
    "collapsed": false,
    "scrolled": false
   },
   "outputs": [
    {
     "name": "stdout",
     "output_type": "stream",
     "text": [
      "Populating the interactive namespace from numpy and matplotlib\n"
     ]
    }
   ],
   "source": [
    "import pandas\n",
    "import matplotlib.pyplot as plt\n",
    "%pylab inline\n"
   ]
  },
  {
   "cell_type": "code",
   "execution_count": 2,
   "metadata": {
    "collapsed": false,
    "scrolled": true
   },
   "outputs": [
    {
     "name": "stdout",
     "output_type": "stream",
     "text": [
      "<class 'pandas.core.frame.DataFrame'>\n",
      "RangeIndex: 891 entries, 0 to 890\n",
      "Data columns (total 12 columns):\n",
      "PassengerId    891 non-null int64\n",
      "Survived       891 non-null int64\n",
      "Pclass         891 non-null int64\n",
      "Name           891 non-null object\n",
      "Sex            891 non-null object\n",
      "Age            714 non-null float64\n",
      "SibSp          891 non-null int64\n",
      "Parch          891 non-null int64\n",
      "Ticket         891 non-null object\n",
      "Fare           891 non-null float64\n",
      "Cabin          204 non-null object\n",
      "Embarked       889 non-null object\n",
      "dtypes: float64(2), int64(5), object(5)\n",
      "memory usage: 83.6+ KB\n"
     ]
    }
   ],
   "source": [
    "#read the csv file and print basic info\n",
    "\n",
    "titanic = pandas.read_csv(\"train.csv\")\n",
    "titanic.info()\n"
   ]
  },
  {
   "cell_type": "code",
   "execution_count": 3,
   "metadata": {
    "collapsed": false,
    "scrolled": true
   },
   "outputs": [
    {
     "data": {
      "text/html": [
       "<div>\n",
       "<table border=\"1\" class=\"dataframe\">\n",
       "  <thead>\n",
       "    <tr style=\"text-align: right;\">\n",
       "      <th></th>\n",
       "      <th>PassengerId</th>\n",
       "      <th>Survived</th>\n",
       "      <th>Pclass</th>\n",
       "      <th>Name</th>\n",
       "      <th>Sex</th>\n",
       "      <th>Age</th>\n",
       "      <th>SibSp</th>\n",
       "      <th>Parch</th>\n",
       "      <th>Ticket</th>\n",
       "      <th>Fare</th>\n",
       "      <th>Cabin</th>\n",
       "      <th>Embarked</th>\n",
       "    </tr>\n",
       "  </thead>\n",
       "  <tbody>\n",
       "    <tr>\n",
       "      <th>0</th>\n",
       "      <td>1</td>\n",
       "      <td>0</td>\n",
       "      <td>3</td>\n",
       "      <td>Braund, Mr. Owen Harris</td>\n",
       "      <td>male</td>\n",
       "      <td>22.0</td>\n",
       "      <td>1</td>\n",
       "      <td>0</td>\n",
       "      <td>A/5 21171</td>\n",
       "      <td>7.2500</td>\n",
       "      <td>NaN</td>\n",
       "      <td>S</td>\n",
       "    </tr>\n",
       "    <tr>\n",
       "      <th>1</th>\n",
       "      <td>2</td>\n",
       "      <td>1</td>\n",
       "      <td>1</td>\n",
       "      <td>Cumings, Mrs. John Bradley (Florence Briggs Th...</td>\n",
       "      <td>female</td>\n",
       "      <td>38.0</td>\n",
       "      <td>1</td>\n",
       "      <td>0</td>\n",
       "      <td>PC 17599</td>\n",
       "      <td>71.2833</td>\n",
       "      <td>C85</td>\n",
       "      <td>C</td>\n",
       "    </tr>\n",
       "    <tr>\n",
       "      <th>2</th>\n",
       "      <td>3</td>\n",
       "      <td>1</td>\n",
       "      <td>3</td>\n",
       "      <td>Heikkinen, Miss. Laina</td>\n",
       "      <td>female</td>\n",
       "      <td>26.0</td>\n",
       "      <td>0</td>\n",
       "      <td>0</td>\n",
       "      <td>STON/O2. 3101282</td>\n",
       "      <td>7.9250</td>\n",
       "      <td>NaN</td>\n",
       "      <td>S</td>\n",
       "    </tr>\n",
       "    <tr>\n",
       "      <th>3</th>\n",
       "      <td>4</td>\n",
       "      <td>1</td>\n",
       "      <td>1</td>\n",
       "      <td>Futrelle, Mrs. Jacques Heath (Lily May Peel)</td>\n",
       "      <td>female</td>\n",
       "      <td>35.0</td>\n",
       "      <td>1</td>\n",
       "      <td>0</td>\n",
       "      <td>113803</td>\n",
       "      <td>53.1000</td>\n",
       "      <td>C123</td>\n",
       "      <td>S</td>\n",
       "    </tr>\n",
       "    <tr>\n",
       "      <th>4</th>\n",
       "      <td>5</td>\n",
       "      <td>0</td>\n",
       "      <td>3</td>\n",
       "      <td>Allen, Mr. William Henry</td>\n",
       "      <td>male</td>\n",
       "      <td>35.0</td>\n",
       "      <td>0</td>\n",
       "      <td>0</td>\n",
       "      <td>373450</td>\n",
       "      <td>8.0500</td>\n",
       "      <td>NaN</td>\n",
       "      <td>S</td>\n",
       "    </tr>\n",
       "    <tr>\n",
       "      <th>5</th>\n",
       "      <td>6</td>\n",
       "      <td>0</td>\n",
       "      <td>3</td>\n",
       "      <td>Moran, Mr. James</td>\n",
       "      <td>male</td>\n",
       "      <td>NaN</td>\n",
       "      <td>0</td>\n",
       "      <td>0</td>\n",
       "      <td>330877</td>\n",
       "      <td>8.4583</td>\n",
       "      <td>NaN</td>\n",
       "      <td>Q</td>\n",
       "    </tr>\n",
       "  </tbody>\n",
       "</table>\n",
       "</div>"
      ],
      "text/plain": [
       "   PassengerId  Survived  Pclass  \\\n",
       "0            1         0       3   \n",
       "1            2         1       1   \n",
       "2            3         1       3   \n",
       "3            4         1       1   \n",
       "4            5         0       3   \n",
       "5            6         0       3   \n",
       "\n",
       "                                                Name     Sex   Age  SibSp  \\\n",
       "0                            Braund, Mr. Owen Harris    male  22.0      1   \n",
       "1  Cumings, Mrs. John Bradley (Florence Briggs Th...  female  38.0      1   \n",
       "2                             Heikkinen, Miss. Laina  female  26.0      0   \n",
       "3       Futrelle, Mrs. Jacques Heath (Lily May Peel)  female  35.0      1   \n",
       "4                           Allen, Mr. William Henry    male  35.0      0   \n",
       "5                                   Moran, Mr. James    male   NaN      0   \n",
       "\n",
       "   Parch            Ticket     Fare Cabin Embarked  \n",
       "0      0         A/5 21171   7.2500   NaN        S  \n",
       "1      0          PC 17599  71.2833   C85        C  \n",
       "2      0  STON/O2. 3101282   7.9250   NaN        S  \n",
       "3      0            113803  53.1000  C123        S  \n",
       "4      0            373450   8.0500   NaN        S  \n",
       "5      0            330877   8.4583   NaN        Q  "
      ]
     },
     "execution_count": 3,
     "metadata": {},
     "output_type": "execute_result"
    }
   ],
   "source": [
    "#Let's look at the first 5 values(rows)\n",
    "titanic.loc[0:5]"
   ]
  },
  {
   "cell_type": "code",
   "execution_count": 4,
   "metadata": {
    "collapsed": false
   },
   "outputs": [
    {
     "data": {
      "text/html": [
       "<div>\n",
       "<table border=\"1\" class=\"dataframe\">\n",
       "  <thead>\n",
       "    <tr style=\"text-align: right;\">\n",
       "      <th></th>\n",
       "      <th>PassengerId</th>\n",
       "      <th>Name</th>\n",
       "      <th>Sex</th>\n",
       "      <th>Age</th>\n",
       "      <th>Survived</th>\n",
       "    </tr>\n",
       "  </thead>\n",
       "  <tbody>\n",
       "    <tr>\n",
       "      <th>0</th>\n",
       "      <td>1</td>\n",
       "      <td>Braund, Mr. Owen Harris</td>\n",
       "      <td>male</td>\n",
       "      <td>22.0</td>\n",
       "      <td>0</td>\n",
       "    </tr>\n",
       "    <tr>\n",
       "      <th>1</th>\n",
       "      <td>2</td>\n",
       "      <td>Cumings, Mrs. John Bradley (Florence Briggs Th...</td>\n",
       "      <td>female</td>\n",
       "      <td>38.0</td>\n",
       "      <td>1</td>\n",
       "    </tr>\n",
       "    <tr>\n",
       "      <th>2</th>\n",
       "      <td>3</td>\n",
       "      <td>Heikkinen, Miss. Laina</td>\n",
       "      <td>female</td>\n",
       "      <td>26.0</td>\n",
       "      <td>1</td>\n",
       "    </tr>\n",
       "    <tr>\n",
       "      <th>3</th>\n",
       "      <td>4</td>\n",
       "      <td>Futrelle, Mrs. Jacques Heath (Lily May Peel)</td>\n",
       "      <td>female</td>\n",
       "      <td>35.0</td>\n",
       "      <td>1</td>\n",
       "    </tr>\n",
       "  </tbody>\n",
       "</table>\n",
       "</div>"
      ],
      "text/plain": [
       "   PassengerId                                               Name     Sex  \\\n",
       "0            1                            Braund, Mr. Owen Harris    male   \n",
       "1            2  Cumings, Mrs. John Bradley (Florence Briggs Th...  female   \n",
       "2            3                             Heikkinen, Miss. Laina  female   \n",
       "3            4       Futrelle, Mrs. Jacques Heath (Lily May Peel)  female   \n",
       "\n",
       "    Age  Survived  \n",
       "0  22.0         0  \n",
       "1  38.0         1  \n",
       "2  26.0         1  \n",
       "3  35.0         1  "
      ]
     },
     "execution_count": 4,
     "metadata": {},
     "output_type": "execute_result"
    }
   ],
   "source": [
    "#Use iloc to print the specific colums of a dataframe in given order\n",
    "\n",
    "# Usage:  dataframe.iloc[ row_indices, column_indices]\n",
    "#Here both row_indices and column_indices are list/range of index values\n",
    "\n",
    "titanic.iloc[0:4,[0,3,4,5,1]]\n"
   ]
  },
  {
   "cell_type": "code",
   "execution_count": 5,
   "metadata": {
    "collapsed": false
   },
   "outputs": [
    {
     "data": {
      "text/html": [
       "<div>\n",
       "<table border=\"1\" class=\"dataframe\">\n",
       "  <thead>\n",
       "    <tr style=\"text-align: right;\">\n",
       "      <th></th>\n",
       "      <th>PassengerId</th>\n",
       "      <th>Survived</th>\n",
       "      <th>Pclass</th>\n",
       "      <th>Age</th>\n",
       "      <th>SibSp</th>\n",
       "      <th>Parch</th>\n",
       "      <th>Fare</th>\n",
       "    </tr>\n",
       "  </thead>\n",
       "  <tbody>\n",
       "    <tr>\n",
       "      <th>count</th>\n",
       "      <td>891.000000</td>\n",
       "      <td>891.000000</td>\n",
       "      <td>891.000000</td>\n",
       "      <td>714.000000</td>\n",
       "      <td>891.000000</td>\n",
       "      <td>891.000000</td>\n",
       "      <td>891.000000</td>\n",
       "    </tr>\n",
       "    <tr>\n",
       "      <th>mean</th>\n",
       "      <td>446.000000</td>\n",
       "      <td>0.383838</td>\n",
       "      <td>2.308642</td>\n",
       "      <td>29.699118</td>\n",
       "      <td>0.523008</td>\n",
       "      <td>0.381594</td>\n",
       "      <td>32.204208</td>\n",
       "    </tr>\n",
       "    <tr>\n",
       "      <th>std</th>\n",
       "      <td>257.353842</td>\n",
       "      <td>0.486592</td>\n",
       "      <td>0.836071</td>\n",
       "      <td>14.526497</td>\n",
       "      <td>1.102743</td>\n",
       "      <td>0.806057</td>\n",
       "      <td>49.693429</td>\n",
       "    </tr>\n",
       "    <tr>\n",
       "      <th>min</th>\n",
       "      <td>1.000000</td>\n",
       "      <td>0.000000</td>\n",
       "      <td>1.000000</td>\n",
       "      <td>0.420000</td>\n",
       "      <td>0.000000</td>\n",
       "      <td>0.000000</td>\n",
       "      <td>0.000000</td>\n",
       "    </tr>\n",
       "    <tr>\n",
       "      <th>25%</th>\n",
       "      <td>223.500000</td>\n",
       "      <td>0.000000</td>\n",
       "      <td>2.000000</td>\n",
       "      <td>20.125000</td>\n",
       "      <td>0.000000</td>\n",
       "      <td>0.000000</td>\n",
       "      <td>7.910400</td>\n",
       "    </tr>\n",
       "    <tr>\n",
       "      <th>50%</th>\n",
       "      <td>446.000000</td>\n",
       "      <td>0.000000</td>\n",
       "      <td>3.000000</td>\n",
       "      <td>28.000000</td>\n",
       "      <td>0.000000</td>\n",
       "      <td>0.000000</td>\n",
       "      <td>14.454200</td>\n",
       "    </tr>\n",
       "    <tr>\n",
       "      <th>75%</th>\n",
       "      <td>668.500000</td>\n",
       "      <td>1.000000</td>\n",
       "      <td>3.000000</td>\n",
       "      <td>38.000000</td>\n",
       "      <td>1.000000</td>\n",
       "      <td>0.000000</td>\n",
       "      <td>31.000000</td>\n",
       "    </tr>\n",
       "    <tr>\n",
       "      <th>max</th>\n",
       "      <td>891.000000</td>\n",
       "      <td>1.000000</td>\n",
       "      <td>3.000000</td>\n",
       "      <td>80.000000</td>\n",
       "      <td>8.000000</td>\n",
       "      <td>6.000000</td>\n",
       "      <td>512.329200</td>\n",
       "    </tr>\n",
       "  </tbody>\n",
       "</table>\n",
       "</div>"
      ],
      "text/plain": [
       "       PassengerId    Survived      Pclass         Age       SibSp  \\\n",
       "count   891.000000  891.000000  891.000000  714.000000  891.000000   \n",
       "mean    446.000000    0.383838    2.308642   29.699118    0.523008   \n",
       "std     257.353842    0.486592    0.836071   14.526497    1.102743   \n",
       "min       1.000000    0.000000    1.000000    0.420000    0.000000   \n",
       "25%     223.500000    0.000000    2.000000   20.125000    0.000000   \n",
       "50%     446.000000    0.000000    3.000000   28.000000    0.000000   \n",
       "75%     668.500000    1.000000    3.000000   38.000000    1.000000   \n",
       "max     891.000000    1.000000    3.000000   80.000000    8.000000   \n",
       "\n",
       "            Parch        Fare  \n",
       "count  891.000000  891.000000  \n",
       "mean     0.381594   32.204208  \n",
       "std      0.806057   49.693429  \n",
       "min      0.000000    0.000000  \n",
       "25%      0.000000    7.910400  \n",
       "50%      0.000000   14.454200  \n",
       "75%      0.000000   31.000000  \n",
       "max      6.000000  512.329200  "
      ]
     },
     "execution_count": 5,
     "metadata": {},
     "output_type": "execute_result"
    }
   ],
   "source": [
    "titanic.describe()"
   ]
  },
  {
   "cell_type": "code",
   "execution_count": 6,
   "metadata": {
    "collapsed": false,
    "scrolled": true
   },
   "outputs": [
    {
     "name": "stdout",
     "output_type": "stream",
     "text": [
      "28.0\n",
      "24.0\n",
      "29.6991176471\n"
     ]
    }
   ],
   "source": [
    "#Age has a few values missing.\n",
    "print titanic[\"Age\"].median()\n",
    "print titanic[\"Age\"].mode()[0]\n",
    "print titanic[\"Age\"].mean()"
   ]
  },
  {
   "cell_type": "code",
   "execution_count": 7,
   "metadata": {
    "collapsed": false
   },
   "outputs": [
    {
     "data": {
      "text/plain": [
       "<matplotlib.lines.Line2D at 0x7f9def64fa50>"
      ]
     },
     "execution_count": 7,
     "metadata": {},
     "output_type": "execute_result"
    },
    {
     "data": {
      "image/png": "[encoded data removed]",
      "text/plain": [
       "<matplotlib.figure.Figure at 0x7f9e15708290>"
      ]
     },
     "metadata": {},
     "output_type": "display_data"
    }
   ],
   "source": [
    "# Let us see how the data is distributed using a histogram\n",
    "# we will use the axvline function to plot the mean and median as vertical lines over our histogram\n",
    "\n",
    "\n",
    "avg_plot = titanic[\"Age\"].hist()\n",
    "avg_plot.axvline(titanic[\"Age\"].mean(), color='r', linestyle='dashed', linewidth=2)\n",
    "avg_plot.axvline(titanic[\"Age\"].median(), color='y', linestyle='dashed', linewidth=2)"
   ]
  },
  {
   "cell_type": "code",
   "execution_count": 8,
   "metadata": {
    "collapsed": false,
    "scrolled": true
   },
   "outputs": [
    {
     "data": {
      "text/plain": [
       "<matplotlib.lines.Line2D at 0x7f9decd22c90>"
      ]
     },
     "execution_count": 8,
     "metadata": {},
     "output_type": "execute_result"
    },
    {
     "data": {
      "image/png": "[encoded data removed]",
      "text/plain": [
       "<matplotlib.figure.Figure at 0x7f9df1e99490>"
      ]
     },
     "metadata": {},
     "output_type": "display_data"
    }
   ],
   "source": [
    "# Above plot doesn't really give us the picture of the entire distribution, just the distribution of ranges.\n",
    "# Let's plot a histogram and represent every single value\n",
    "# The 'bins' argument to hist tells it how many bins to plot. \n",
    "# Here we plot as many bins as the max Age in the data, so we can cover the entire dataset\n",
    "# http://pandas.pydata.org/pandas-docs/version/0.17.0/generated/pandas.DataFrame.hist.html\n",
    "\n",
    "avg_plot_detailed = titanic[\"Age\"].hist(bins=int(titanic[\"Age\"].max()))\n",
    "avg_plot_detailed.axvline(titanic[\"Age\"].mean(), color='r', linestyle='dashed', linewidth=2)\n",
    "avg_plot_detailed.axvline(titanic[\"Age\"].median(), color='y', linestyle='dashed', linewidth=2)"
   ]
  },
  {
   "cell_type": "markdown",
   "metadata": {},
   "source": [
    "## Data Cleaning"
   ]
  },
  {
   "cell_type": "code",
   "execution_count": 9,
   "metadata": {
    "collapsed": false,
    "scrolled": true
   },
   "outputs": [
    {
     "name": "stdout",
     "output_type": "stream",
     "text": [
      "PassengerId      0\n",
      "Survived         0\n",
      "Pclass           0\n",
      "Name             0\n",
      "Sex              0\n",
      "Age            177\n",
      "SibSp            0\n",
      "Parch            0\n",
      "Ticket           0\n",
      "Fare             0\n",
      "Cabin          687\n",
      "Embarked         2\n",
      "dtype: int64\n"
     ]
    }
   ],
   "source": [
    "#Let us check how many values are empty\n",
    "print titanic.isnull().sum()\n"
   ]
  },
  {
   "cell_type": "code",
   "execution_count": 10,
   "metadata": {
    "collapsed": false
   },
   "outputs": [],
   "source": [
    "#replace all null age values with median\n",
    "\n",
    "titanic[\"Age\"] = titanic[\"Age\"].fillna(titanic[\"Age\"].median())\n"
   ]
  },
  {
   "cell_type": "code",
   "execution_count": 11,
   "metadata": {
    "collapsed": false
   },
   "outputs": [],
   "source": [
    "#Sex of a person might be a valuable feature. We give it unique values male = 0, female = 1\n",
    "\n",
    "#choose rows which have value 'male' in the 'Sex' column and assign 0\n",
    "titanic.loc[titanic[\"Sex\"]==\"male\",\"Sex\"] = 0\n",
    "\n",
    "#now for women\n",
    "titanic.loc[titanic[\"Sex\"]==\"female\",\"Sex\"] = 1\n"
   ]
  },
  {
   "cell_type": "code",
   "execution_count": 12,
   "metadata": {
    "collapsed": false
   },
   "outputs": [
    {
     "data": {
      "text/plain": [
       "0       True\n",
       "1      False\n",
       "2      False\n",
       "3      False\n",
       "4       True\n",
       "5       True\n",
       "6       True\n",
       "7       True\n",
       "8      False\n",
       "9      False\n",
       "10     False\n",
       "11     False\n",
       "12      True\n",
       "13      True\n",
       "14     False\n",
       "15     False\n",
       "16      True\n",
       "17      True\n",
       "18     False\n",
       "19     False\n",
       "20      True\n",
       "21      True\n",
       "22     False\n",
       "23      True\n",
       "24     False\n",
       "25     False\n",
       "26      True\n",
       "27      True\n",
       "28     False\n",
       "29      True\n",
       "       ...  \n",
       "861     True\n",
       "862    False\n",
       "863    False\n",
       "864     True\n",
       "865    False\n",
       "866    False\n",
       "867     True\n",
       "868     True\n",
       "869     True\n",
       "870     True\n",
       "871    False\n",
       "872     True\n",
       "873     True\n",
       "874    False\n",
       "875    False\n",
       "876     True\n",
       "877     True\n",
       "878     True\n",
       "879    False\n",
       "880    False\n",
       "881     True\n",
       "882    False\n",
       "883     True\n",
       "884     True\n",
       "885    False\n",
       "886     True\n",
       "887    False\n",
       "888    False\n",
       "889     True\n",
       "890     True\n",
       "Name: Sex, dtype: bool"
      ]
     },
     "execution_count": 12,
     "metadata": {},
     "output_type": "execute_result"
    }
   ],
   "source": [
    "# just like how iloc takes an array of integer indices, loc takes an array of booleans \n",
    "# which specify if vale at given index has to be included or not\n",
    "\n",
    "titanic[\"Sex\"]==0\n",
    "\n"
   ]
  },
  {
   "cell_type": "code",
   "execution_count": 13,
   "metadata": {
    "collapsed": false
   },
   "outputs": [
    {
     "name": "stdout",
     "output_type": "stream",
     "text": [
      "['S' 'C' 'Q' nan]\n",
      "Nan 2\n",
      "S 644\n",
      "C 168\n",
      "Q 77\n"
     ]
    }
   ],
   "source": [
    "# Where the passenger embarked might also be valuable information\n",
    "# Let us check if data is refined and complete\n",
    "\n",
    "print titanic[\"Embarked\"].unique()\n",
    "\n",
    "print \"Nan\", titanic[\"Embarked\"].isnull().sum()\n",
    "\n",
    "for i in titanic[\"Embarked\"].unique()[:-1]:\n",
    "    print i, sum(titanic[\"Embarked\"]==i)"
   ]
  },
  {
   "cell_type": "code",
   "execution_count": 14,
   "metadata": {
    "collapsed": true
   },
   "outputs": [],
   "source": [
    "titanic[\"Embarked\"]= titanic[\"Embarked\"].fillna('S')\n",
    "\n",
    "# Assign integer values to these\n",
    "# First argumnent to loc -> Rows in 'Embarked' column that are S,Q,C resp, we use boolean arrays here\n",
    "# Second arguenmt to loc -> the 'Embarked' Column\n",
    "\n",
    "titanic.loc[titanic[\"Embarked\"]=='S',\"Embarked\"] = 0\n",
    "titanic.loc[titanic[\"Embarked\"]=='C',\"Embarked\"] = 1\n",
    "titanic.loc[titanic[\"Embarked\"]=='Q',\"Embarked\"] = 2"
   ]
  },
  {
   "cell_type": "markdown",
   "metadata": {},
   "source": [
    "## Linear Regression with cross validation"
   ]
  },
  {
   "cell_type": "code",
   "execution_count": 15,
   "metadata": {
    "collapsed": false
   },
   "outputs": [],
   "source": [
    "#Choosing our features\n",
    "predictors = [\"Pclass\", \"Sex\", \"Age\", \"SibSp\", \"Parch\", \"Fare\", \"Embarked\"]\n",
    "\n",
    "#import the linear regression and cross validation helper functions\n",
    "from sklearn.linear_model import LinearRegression\n",
    "from sklearn.model_selection import KFold\n"
   ]
  },
  {
   "cell_type": "code",
   "execution_count": 16,
   "metadata": {
    "collapsed": false
   },
   "outputs": [
    {
     "name": "stdout",
     "output_type": "stream",
     "text": [
      "Train:  297 - 890     Test:  0 - 296 \n",
      "\n",
      "Train:  0 - 890     Test:  297 - 593 \n",
      "\n",
      "Train:  0 - 593     Test:  594 - 890 \n",
      "\n"
     ]
    }
   ],
   "source": [
    "#initialize the Linear Regression object\n",
    "alg = LinearRegression()\n",
    "\n",
    "# We divide the data into three samples and combine two at a time for training and use the 3rd for testing.\n",
    "# KFold takes care of this\n",
    "\n",
    "kf = KFold(n_splits=3, random_state=1)\n",
    "\n",
    "predictions =[]\n",
    "\n",
    "for train,test in kf.split(titanic[predictors]):\n",
    "    #Here train, test are a np array of indices, so we can use iloc to parse the dataframe accordingly\n",
    "    print 'Train: ',train[0],'-',train[-1],'    Test: ',test[0],'-',test[-1],\"\\n\"\n",
    "\n",
    "# The second train set is actually 0-297,593-890 if we observe the trend    \n",
    "# Concatenating the three test batches gives us the entire column prediction"
   ]
  },
  {
   "cell_type": "code",
   "execution_count": 17,
   "metadata": {
    "collapsed": false
   },
   "outputs": [],
   "source": [
    "#fit the model and cross validate\n",
    "\n",
    "for train,test in kf.split(titanic):\n",
    "    #Here train, test are a np array of indices, so we can use iloc to parse the dataframe accordingly\n",
    "    train_data = (titanic[predictors].iloc[train,:])\n",
    "    train_target = titanic[\"Survived\"].iloc[train]\n",
    "    \n",
    "    alg.fit(train_data,train_target)\n",
    "    \n",
    "    test_pred = alg.predict(titanic[predictors].iloc[test,:])\n",
    "    predictions.append(test_pred)"
   ]
  },
  {
   "cell_type": "code",
   "execution_count": 18,
   "metadata": {
    "collapsed": false
   },
   "outputs": [
    {
     "name": "stdout",
     "output_type": "stream",
     "text": [
      "0.783389450056\n"
     ]
    }
   ],
   "source": [
    "# Now let's check out predictions\n",
    "import numpy as np\n",
    "\n",
    "#Concatenate the predictions from the three datasets\n",
    "predictions = np.concatenate(predictions, axis = 0)\n",
    "\n",
    "predictions[predictions > 0.5] = 1\n",
    "predictions[predictions <= 0.5] = 0\n",
    "\n",
    "right_pred = predictions == titanic[\"Survived\"]\n",
    "\n",
    "accuracy = float(sum(right_pred))/len(right_pred)\n",
    "\n",
    "print accuracy"
   ]
  },
  {
   "cell_type": "markdown",
   "metadata": {},
   "source": [
    "## Logistic Regression"
   ]
  },
  {
   "cell_type": "code",
   "execution_count": 19,
   "metadata": {
    "collapsed": false
   },
   "outputs": [
    {
     "name": "stdout",
     "output_type": "stream",
     "text": [
      "0.787878787879\n"
     ]
    }
   ],
   "source": [
    "# Now Logistic regression\n",
    "from sklearn.linear_model import LogisticRegression\n",
    "from sklearn import model_selection\n",
    "\n",
    "# Initialize our algorithm\n",
    "algreg = LogisticRegression(random_state=1)\n",
    "# Compute the accuracy score for all the cross validation folds.  (much simpler than what we did before!)\n",
    "#This here is all the above steps condesed!\n",
    "scores = model_selection.cross_val_score(algreg, titanic[predictors], titanic[\"Survived\"], cv=3)\n",
    "# Take the mean of the scores (because we have one for each fold)\n",
    "\n",
    "print(scores.mean())\n",
    "\n"
   ]
  },
  {
   "cell_type": "code",
   "execution_count": 20,
   "metadata": {
    "collapsed": false
   },
   "outputs": [],
   "source": [
    "# Now prepare the test set for submission\n",
    "\n",
    "titanic_test = pandas.read_csv(\"test.csv\")\n",
    "titanic_test[\"Age\"] = titanic_test[\"Age\"].fillna(titanic[\"Age\"].median())\n",
    "titanic_test.loc[titanic_test[\"Sex\"]==\"male\",\"Sex\"] = 0\n",
    "titanic_test.loc[titanic_test[\"Sex\"]==\"female\",\"Sex\"] = 1\n",
    "\n",
    "titanic_test[\"Embarked\"] = titanic_test[\"Embarked\"].fillna('S')\n",
    "\n",
    "\n",
    "titanic_test.loc[titanic_test[\"Embarked\"]==\"S\",\"Embarked\"] = 0\n",
    "titanic_test.loc[titanic_test[\"Embarked\"]==\"C\",\"Embarked\"] = 1\n",
    "titanic_test.loc[titanic_test[\"Embarked\"]==\"Q\",\"Embarked\"] = 2\n",
    "\n",
    "\n",
    "titanic_test[\"Fare\"] = titanic_test[\"Fare\"].fillna(titanic_test[\"Fare\"].median())"
   ]
  },
  {
   "cell_type": "code",
   "execution_count": 21,
   "metadata": {
    "collapsed": false
   },
   "outputs": [],
   "source": [
    "# Train the algorithm using all the training data (LinReg)\n",
    "alg.fit(titanic[predictors], titanic[\"Survived\"])\n",
    "algreg.fit(titanic[predictors], titanic[\"Survived\"])\n",
    "\n",
    "# Make predictions using the test set.\n",
    "LinRegpredictions = alg.predict(titanic_test[predictors])\n",
    "LogRegpredictions = algreg.predict(titanic_test[predictors])\n",
    "\n",
    "LinRegpredictions[LinRegpredictions > 0.5] = 1\n",
    "LinRegpredictions[LinRegpredictions <= 0.5] = 0\n",
    "\n",
    "# Create a new dataframe with only the columns Kaggle wants from the dataset.\n",
    "submission_LinReg = pandas.DataFrame({\n",
    "        \"PassengerId\": titanic_test[\"PassengerId\"],\n",
    "        \"Survived\": LinRegpredictions\n",
    "    })\n",
    "\n",
    "submission_LogReg = pandas.DataFrame({\n",
    "        \"PassengerId\": titanic_test[\"PassengerId\"],\n",
    "        \"Survived\": LogRegpredictions\n",
    "    })\n",
    "\n",
    "submission_LinReg.to_csv(\"kaggle_submission1_LinReg.csv\", index=False)\n",
    "submission_LogReg.to_csv(\"kaggle_submission2_LogReg.csv\", index=False)\n"
   ]
  },
  {
   "cell_type": "code",
   "execution_count": 22,
   "metadata": {
    "collapsed": false
   },
   "outputs": [
    {
     "data": {
      "text/html": [
       "<img src=\"http://ipython.org/_static/IPy_header.png\"/>"
      ],
      "text/plain": [
       "<IPython.core.display.Image object>"
      ]
     },
     "execution_count": 22,
     "metadata": {},
     "output_type": "execute_result"
    }
   ],
   "source": [
    "# Random cool stuff\n",
    "\n",
    "from IPython.display import Image\n",
    "\n",
    "Image(url='http://ipython.org/_static/IPy_header.png')\n"
   ]
  },
  {
   "cell_type": "code",
   "execution_count": 23,
   "metadata": {
    "collapsed": false
   },
   "outputs": [
    {
     "data": {
      "text/html": [
       "<table>\n",
       "        <tr> \n",
       "          <td>1</td>\n",
       "          <td>2</td>\n",
       "        </tr>\n",
       "        <tr> \n",
       "          <td>3</td>\n",
       "          <td>4</td>\n",
       "        </tr>        \n",
       "        </table>"
      ],
      "text/plain": [
       "<IPython.core.display.HTML object>"
      ]
     },
     "execution_count": 23,
     "metadata": {},
     "output_type": "execute_result"
    }
   ],
   "source": [
    "from IPython.display import HTML\n",
    "HTML(\"\"\"<table>\n",
    "        <tr> \n",
    "          <td>1</td>\n",
    "          <td>2</td>\n",
    "        </tr>\n",
    "        <tr> \n",
    "          <td>3</td>\n",
    "          <td>4</td>\n",
    "        </tr>        \n",
    "        </table>\"\"\")\n"
   ]
  },
  {
   "cell_type": "code",
   "execution_count": 24,
   "metadata": {
    "collapsed": false
   },
   "outputs": [
    {
     "data": {
      "text/plain": [
       "80.0"
      ]
     },
     "execution_count": 24,
     "metadata": {},
     "output_type": "execute_result"
    }
   ],
   "source": [
    "titanic[\"Age\"].max()"
   ]
  },
  {
   "cell_type": "code",
   "execution_count": 25,
   "metadata": {
    "collapsed": false
   },
   "outputs": [
    {
     "data": {
      "text/plain": [
       "array([[<matplotlib.axes._subplots.AxesSubplot object at 0x7f9de202e1d0>,\n",
       "        <matplotlib.axes._subplots.AxesSubplot object at 0x7f9de1fae550>,\n",
       "        <matplotlib.axes._subplots.AxesSubplot object at 0x7f9de1f2eb10>],\n",
       "       [<matplotlib.axes._subplots.AxesSubplot object at 0x7f9decfcb750>,\n",
       "        <matplotlib.axes._subplots.AxesSubplot object at 0x7f9de1e7ba10>,\n",
       "        <matplotlib.axes._subplots.AxesSubplot object at 0x7f9de1e01890>],\n",
       "       [<matplotlib.axes._subplots.AxesSubplot object at 0x7f9de1d65e90>,\n",
       "        <matplotlib.axes._subplots.AxesSubplot object at 0x7f9de1ce7e10>,\n",
       "        <matplotlib.axes._subplots.AxesSubplot object at 0x7f9de1c4ed50>]], dtype=object)"
      ]
     },
     "execution_count": 25,
     "metadata": {},
     "output_type": "execute_result"
    },
    {
     "data": {
      "image/png": "[encoded data removed]",
      "text/plain": [
       "<matplotlib.figure.Figure at 0x7f9de2028890>"
      ]
     },
     "metadata": {},
     "output_type": "display_data"
    }
   ],
   "source": [
    "titanic.hist()"
   ]
  },
  {
   "cell_type": "markdown",
   "metadata": {
    "collapsed": true
   },
   "source": [
    "# Improving Submission (Dataquest Tutorial 2)"
   ]
  },
  {
   "cell_type": "markdown",
   "metadata": {},
   "source": [
    "## Random Forests"
   ]
  },
  {
   "cell_type": "code",
   "execution_count": 26,
   "metadata": {
    "collapsed": false
   },
   "outputs": [],
   "source": [
    "# Import the random Forest Classifier from sklearn\n",
    "from sklearn import model_selection\n",
    "from sklearn.ensemble import RandomForestClassifier"
   ]
  },
  {
   "cell_type": "code",
   "execution_count": 27,
   "metadata": {
    "collapsed": false
   },
   "outputs": [
    {
     "name": "stdout",
     "output_type": "stream",
     "text": [
      "0.785634118967\n"
     ]
    },
    {
     "name": "stderr",
     "output_type": "stream",
     "text": [
      "/home/kaushiksk/miniconda2/envs/ml/lib/python2.7/site-packages/sklearn/cross_validation.py:44: DeprecationWarning: This module was deprecated in version 0.18 in favor of the model_selection module into which all the refactored classes and functions are moved. Also note that the interface of the new CV iterators are different from that of this module. This module will be removed in 0.20.\n",
      "  \"This module will be removed in 0.20.\", DeprecationWarning)\n"
     ]
    }
   ],
   "source": [
    "from sklearn import cross_validation\n",
    "from sklearn.ensemble import RandomForestClassifier\n",
    "\n",
    "predictors = [\"Pclass\", \"Sex\", \"Age\", \"SibSp\", \"Parch\", \"Fare\", \"Embarked\"]\n",
    "\n",
    "# Initialize our algorithm with the default paramters\n",
    "# n_estimators is the number of trees we want to make\n",
    "# min_samples_split is the minimum number of rows we need to make a split\n",
    "# min_samples_leaf is the minimum number of samples we can have at the place where a tree branch ends (the bottom points of the tree)\n",
    "alg = RandomForestClassifier(random_state=1, n_estimators=10, min_samples_split=2, min_samples_leaf=1)\n",
    "# Compute the accuracy score for all the cross validation folds.  (much simpler than what we did before!)\n",
    "kf = cross_validation.KFold(titanic.shape[0], n_folds=3, random_state=1)\n",
    "scores = cross_validation.cross_val_score(alg, titanic[predictors], titanic[\"Survived\"], cv=kf)\n",
    "\n",
    "# Take the mean of the scores (because we have one for each fold)\n",
    "print(scores.mean())"
   ]
  },
  {
   "cell_type": "code",
   "execution_count": 28,
   "metadata": {
    "collapsed": false
   },
   "outputs": [
    {
     "name": "stdout",
     "output_type": "stream",
     "text": [
      "0.801346801347\n"
     ]
    }
   ],
   "source": [
    "predictors = [\"Pclass\", \"Sex\", \"Age\", \"SibSp\", \"Parch\", \"Fare\", \"Embarked\"]\n",
    "# Initialize our algorithm with the default paramters\n",
    "# n_estimators is the number of trees we want to make\n",
    "# min_samples_split is the minimum number of rows we need to make a split\n",
    "# min_samples_leaf is the minimum number of samples we can have at the place where a tree branch ends (the bottom points of the tree)\n",
    "alg = RandomForestClassifier(random_state=1, n_estimators=10, min_samples_split=2, min_samples_leaf=1)\n",
    "# Compute the accuracy score for all the cross validation folds.  (much simpler than what we did before!)\n",
    "\n",
    "scores = model_selection.cross_val_score(alg, titanic[predictors], titanic[\"Survived\"], cv=3)\n",
    "\n",
    "# Take the mean of the scores (because we have one for each fold)\n",
    "print(scores.mean())"
   ]
  },
  {
   "cell_type": "code",
   "execution_count": 147,
   "metadata": {
    "collapsed": false
   },
   "outputs": [
    {
     "name": "stdout",
     "output_type": "stream",
     "text": [
      "0.832772166105 ['Pclass', 'Sex', 'Fare', 'FamilySize', 'Title', 'Age', 'Embarked']\n"
     ]
    }
   ],
   "source": [
    "### Optimized Random Forest\n",
    "# http://scikit-learn.org/stable/modules/ensemble.html#parameters\n",
    "\n",
    "alg = RandomForestClassifier(random_state=1, n_estimators=50, min_samples_split=4, min_samples_leaf=2)\n",
    "# Compute the accuracy score for all the cross validation folds.  (much simpler than what we did before!)\n",
    "\n",
    "scores = model_selection.cross_val_score(alg, titanic[predictors], titanic[\"Survived\"], cv=3)\n",
    "\n",
    "# Take the mean of the scores (because we have one for each fold)\n",
    "print(scores.mean())"
   ]
  },
  {
   "cell_type": "markdown",
   "metadata": {},
   "source": [
    "### Generate New Features"
   ]
  },
  {
   "cell_type": "code",
   "execution_count": 30,
   "metadata": {
    "collapsed": true
   },
   "outputs": [],
   "source": [
    "# Generating a familysize column\n",
    "titanic[\"FamilySize\"] = titanic[\"SibSp\"] + titanic[\"Parch\"]\n",
    "\n",
    "# The .apply method generates a new series\n",
    "titanic[\"NameLength\"] = titanic[\"Name\"].apply(lambda x: len(x))\n",
    "\n",
    "# .apply apllies the supplied function on each row of the associated series"
   ]
  },
  {
   "cell_type": "code",
   "execution_count": 31,
   "metadata": {
    "collapsed": true
   },
   "outputs": [
    {
     "name": "stdout",
     "output_type": "stream",
     "text": [
      "Mr          517\n",
      "Miss        182\n",
      "Mrs         125\n",
      "Master       40\n",
      "Dr            7\n",
      "Rev           6\n",
      "Col           2\n",
      "Major         2\n",
      "Mlle          2\n",
      "Countess      1\n",
      "Ms            1\n",
      "Lady          1\n",
      "Jonkheer      1\n",
      "Don           1\n",
      "Mme           1\n",
      "Capt          1\n",
      "Sir           1\n",
      "Name: Name, dtype: int64\n"
     ]
    }
   ],
   "source": [
    "import re\n",
    "\n",
    "# A function to get the title from a name.\n",
    "def get_title(name):\n",
    "    # Use a regular expression to search for a title.  Titles always consist of capital and lowercase letters, and end with a period.\n",
    "    title_search = re.search(' ([A-Za-z]+)\\.', name)\n",
    "    # If the title exists, extract and return it.\n",
    "    if title_search:\n",
    "        return title_search.group(1)\n",
    "    return \"\"\n",
    "\n",
    "# Get all the titles and print how often each one occurs.\n",
    "titles = titanic[\"Name\"].apply(get_title)\n",
    "print(pandas.value_counts(titles))\n"
   ]
  },
  {
   "cell_type": "code",
   "execution_count": 32,
   "metadata": {
    "collapsed": true
   },
   "outputs": [
    {
     "name": "stdout",
     "output_type": "stream",
     "text": [
      "1     517\n",
      "2     183\n",
      "3     125\n",
      "4      40\n",
      "5       7\n",
      "6       6\n",
      "7       5\n",
      "10      3\n",
      "8       3\n",
      "9       2\n",
      "Name: Name, dtype: int64\n"
     ]
    }
   ],
   "source": [
    "\n",
    "# Map each title to an integer.  Some titles are very rare, and are compressed into the same codes as other titles.\n",
    "title_mapping = {\"Mr\": 1, \"Miss\": 2, \"Mrs\": 3, \"Master\": 4, \"Dr\": 5, \"Rev\": 6, \"Major\": 7, \"Col\": 7, \"Mlle\": 8, \"Mme\": 8, \n",
    "                 \"Don\": 9, \"Lady\": 10, \"Countess\": 10, \"Jonkheer\": 10, \"Sir\": 9, \"Capt\": 7, \"Ms\": 2}\n",
    "for k,v in title_mapping.items():\n",
    "    titles[titles == k] = v\n",
    "\n",
    "# Verify that we converted everything.\n",
    "print(pandas.value_counts(titles))\n",
    "\n",
    "# Add in the title column.\n",
    "titanic[\"Title\"] = titles\n"
   ]
  },
  {
   "cell_type": "code",
   "execution_count": 33,
   "metadata": {
    "collapsed": false
   },
   "outputs": [],
   "source": [
    "import operator\n",
    "\n",
    "# A dictionary mapping family name to id\n",
    "family_id_mapping = {}\n",
    "\n",
    "# A function to get the id given a row\n",
    "def get_family_id(row):\n",
    "    # Find the last name by splitting on a comma\n",
    "    last_name = row[\"Name\"].split(\",\")[0]\n",
    "    # Create the family id\n",
    "    family_id = \"{0}{1}\".format(last_name, row[\"FamilySize\"])\n",
    "    # Look up the id in the mapping\n",
    "    if family_id not in family_id_mapping:\n",
    "        if len(family_id_mapping) == 0:\n",
    "            current_id = 1\n",
    "        else:\n",
    "            # Get the maximum id from the mapping and add one to it if we don't have an id\n",
    "            current_id = max(family_id_mapping.values()) + 1\n",
    "        family_id_mapping[family_id] = current_id\n",
    "    return family_id_mapping[family_id]\n",
    "\n",
    "# Get the family ids with the apply method\n",
    "family_ids = titanic.apply(get_family_id, axis=1)\n"
   ]
  },
  {
   "cell_type": "code",
   "execution_count": 34,
   "metadata": {
    "collapsed": true
   },
   "outputs": [
    {
     "name": "stdout",
     "output_type": "stream",
     "text": [
      "-1      800\n",
      " 14       8\n",
      " 149      7\n",
      " 63       6\n",
      " 50       6\n",
      " 59       6\n",
      " 17       5\n",
      " 384      4\n",
      " 27       4\n",
      " 25       4\n",
      " 162      4\n",
      " 8        4\n",
      " 84       4\n",
      " 340      4\n",
      " 43       3\n",
      " 269      3\n",
      " 58       3\n",
      " 633      2\n",
      " 167      2\n",
      " 280      2\n",
      " 510      2\n",
      " 90       2\n",
      " 83       1\n",
      " 625      1\n",
      " 376      1\n",
      " 449      1\n",
      " 498      1\n",
      " 588      1\n",
      "dtype: int64\n"
     ]
    }
   ],
   "source": [
    "\n",
    "# There are a lot of family ids, so we'll compress all of the families under 3 members into one code.\n",
    "family_ids[titanic[\"FamilySize\"] < 3] = -1\n",
    "\n",
    "# Print the count of each unique id.\n",
    "print(pandas.value_counts(family_ids))\n",
    "\n",
    "titanic[\"FamilyId\"] = family_ids\n"
   ]
  },
  {
   "cell_type": "code",
   "execution_count": 35,
   "metadata": {
    "collapsed": true
   },
   "outputs": [
    {
     "data": {
      "text/plain": [
       "CA. 2343             7\n",
       "347082               7\n",
       "1601                 7\n",
       "347088               6\n",
       "CA 2144              6\n",
       "3101295              6\n",
       "382652               5\n",
       "S.O.C. 14879         5\n",
       "PC 17757             4\n",
       "4133                 4\n",
       "LINE                 4\n",
       "349909               4\n",
       "347077               4\n",
       "W./C. 6608           4\n",
       "113760               4\n",
       "2666                 4\n",
       "113781               4\n",
       "19950                4\n",
       "17421                4\n",
       "347742               3\n",
       "239853               3\n",
       "110152               3\n",
       "24160                3\n",
       "13502                3\n",
       "PC 17572             3\n",
       "C.A. 34651           3\n",
       "248727               3\n",
       "35273                3\n",
       "F.C.C. 13529         3\n",
       "PC 17755             3\n",
       "                    ..\n",
       "330877               1\n",
       "315094               1\n",
       "236852               1\n",
       "4137                 1\n",
       "4136                 1\n",
       "226593               1\n",
       "4134                 1\n",
       "374746               1\n",
       "110813               1\n",
       "C.A. 6212            1\n",
       "349219               1\n",
       "34218                1\n",
       "343120               1\n",
       "315086               1\n",
       "SC/AH 3085           1\n",
       "STON/O 2. 3101273    1\n",
       "345777               1\n",
       "STON/O 2. 3101274    1\n",
       "STON/O 2. 3101275    1\n",
       "113794               1\n",
       "2649                 1\n",
       "374887               1\n",
       "349213               1\n",
       "349210               1\n",
       "349242               1\n",
       "349216               1\n",
       "112052               1\n",
       "315088               1\n",
       "349215               1\n",
       "W./C. 14258          1\n",
       "Name: Ticket, dtype: int64"
      ]
     },
     "execution_count": 35,
     "metadata": {},
     "output_type": "execute_result"
    }
   ],
   "source": [
    "pandas.value_counts(titanic[\"Ticket\"])"
   ]
  },
  {
   "cell_type": "code",
   "execution_count": 36,
   "metadata": {
    "collapsed": true
   },
   "outputs": [
    {
     "data": {
      "text/html": [
       "<div>\n",
       "<table border=\"1\" class=\"dataframe\">\n",
       "  <thead>\n",
       "    <tr style=\"text-align: right;\">\n",
       "      <th></th>\n",
       "      <th>PassengerId</th>\n",
       "      <th>Survived</th>\n",
       "      <th>Pclass</th>\n",
       "      <th>Name</th>\n",
       "      <th>Sex</th>\n",
       "      <th>Age</th>\n",
       "      <th>SibSp</th>\n",
       "      <th>Parch</th>\n",
       "      <th>Ticket</th>\n",
       "      <th>Fare</th>\n",
       "      <th>Cabin</th>\n",
       "      <th>Embarked</th>\n",
       "      <th>FamilySize</th>\n",
       "      <th>NameLength</th>\n",
       "      <th>Title</th>\n",
       "      <th>FamilyId</th>\n",
       "    </tr>\n",
       "  </thead>\n",
       "  <tbody>\n",
       "    <tr>\n",
       "      <th>74</th>\n",
       "      <td>75</td>\n",
       "      <td>1</td>\n",
       "      <td>3</td>\n",
       "      <td>Bing, Mr. Lee</td>\n",
       "      <td>0</td>\n",
       "      <td>32.0</td>\n",
       "      <td>0</td>\n",
       "      <td>0</td>\n",
       "      <td>1601</td>\n",
       "      <td>56.4958</td>\n",
       "      <td>NaN</td>\n",
       "      <td>0</td>\n",
       "      <td>0</td>\n",
       "      <td>13</td>\n",
       "      <td>1</td>\n",
       "      <td>-1</td>\n",
       "    </tr>\n",
       "    <tr>\n",
       "      <th>169</th>\n",
       "      <td>170</td>\n",
       "      <td>0</td>\n",
       "      <td>3</td>\n",
       "      <td>Ling, Mr. Lee</td>\n",
       "      <td>0</td>\n",
       "      <td>28.0</td>\n",
       "      <td>0</td>\n",
       "      <td>0</td>\n",
       "      <td>1601</td>\n",
       "      <td>56.4958</td>\n",
       "      <td>NaN</td>\n",
       "      <td>0</td>\n",
       "      <td>0</td>\n",
       "      <td>13</td>\n",
       "      <td>1</td>\n",
       "      <td>-1</td>\n",
       "    </tr>\n",
       "    <tr>\n",
       "      <th>509</th>\n",
       "      <td>510</td>\n",
       "      <td>1</td>\n",
       "      <td>3</td>\n",
       "      <td>Lang, Mr. Fang</td>\n",
       "      <td>0</td>\n",
       "      <td>26.0</td>\n",
       "      <td>0</td>\n",
       "      <td>0</td>\n",
       "      <td>1601</td>\n",
       "      <td>56.4958</td>\n",
       "      <td>NaN</td>\n",
       "      <td>0</td>\n",
       "      <td>0</td>\n",
       "      <td>14</td>\n",
       "      <td>1</td>\n",
       "      <td>-1</td>\n",
       "    </tr>\n",
       "    <tr>\n",
       "      <th>643</th>\n",
       "      <td>644</td>\n",
       "      <td>1</td>\n",
       "      <td>3</td>\n",
       "      <td>Foo, Mr. Choong</td>\n",
       "      <td>0</td>\n",
       "      <td>28.0</td>\n",
       "      <td>0</td>\n",
       "      <td>0</td>\n",
       "      <td>1601</td>\n",
       "      <td>56.4958</td>\n",
       "      <td>NaN</td>\n",
       "      <td>0</td>\n",
       "      <td>0</td>\n",
       "      <td>15</td>\n",
       "      <td>1</td>\n",
       "      <td>-1</td>\n",
       "    </tr>\n",
       "    <tr>\n",
       "      <th>692</th>\n",
       "      <td>693</td>\n",
       "      <td>1</td>\n",
       "      <td>3</td>\n",
       "      <td>Lam, Mr. Ali</td>\n",
       "      <td>0</td>\n",
       "      <td>28.0</td>\n",
       "      <td>0</td>\n",
       "      <td>0</td>\n",
       "      <td>1601</td>\n",
       "      <td>56.4958</td>\n",
       "      <td>NaN</td>\n",
       "      <td>0</td>\n",
       "      <td>0</td>\n",
       "      <td>12</td>\n",
       "      <td>1</td>\n",
       "      <td>-1</td>\n",
       "    </tr>\n",
       "    <tr>\n",
       "      <th>826</th>\n",
       "      <td>827</td>\n",
       "      <td>0</td>\n",
       "      <td>3</td>\n",
       "      <td>Lam, Mr. Len</td>\n",
       "      <td>0</td>\n",
       "      <td>28.0</td>\n",
       "      <td>0</td>\n",
       "      <td>0</td>\n",
       "      <td>1601</td>\n",
       "      <td>56.4958</td>\n",
       "      <td>NaN</td>\n",
       "      <td>0</td>\n",
       "      <td>0</td>\n",
       "      <td>12</td>\n",
       "      <td>1</td>\n",
       "      <td>-1</td>\n",
       "    </tr>\n",
       "    <tr>\n",
       "      <th>838</th>\n",
       "      <td>839</td>\n",
       "      <td>1</td>\n",
       "      <td>3</td>\n",
       "      <td>Chip, Mr. Chang</td>\n",
       "      <td>0</td>\n",
       "      <td>32.0</td>\n",
       "      <td>0</td>\n",
       "      <td>0</td>\n",
       "      <td>1601</td>\n",
       "      <td>56.4958</td>\n",
       "      <td>NaN</td>\n",
       "      <td>0</td>\n",
       "      <td>0</td>\n",
       "      <td>15</td>\n",
       "      <td>1</td>\n",
       "      <td>-1</td>\n",
       "    </tr>\n",
       "  </tbody>\n",
       "</table>\n",
       "</div>"
      ],
      "text/plain": [
       "     PassengerId  Survived  Pclass             Name Sex   Age  SibSp  Parch  \\\n",
       "74            75         1       3    Bing, Mr. Lee   0  32.0      0      0   \n",
       "169          170         0       3    Ling, Mr. Lee   0  28.0      0      0   \n",
       "509          510         1       3   Lang, Mr. Fang   0  26.0      0      0   \n",
       "643          644         1       3  Foo, Mr. Choong   0  28.0      0      0   \n",
       "692          693         1       3     Lam, Mr. Ali   0  28.0      0      0   \n",
       "826          827         0       3     Lam, Mr. Len   0  28.0      0      0   \n",
       "838          839         1       3  Chip, Mr. Chang   0  32.0      0      0   \n",
       "\n",
       "    Ticket     Fare Cabin Embarked  FamilySize  NameLength Title  FamilyId  \n",
       "74    1601  56.4958   NaN        0           0          13     1        -1  \n",
       "169   1601  56.4958   NaN        0           0          13     1        -1  \n",
       "509   1601  56.4958   NaN        0           0          14     1        -1  \n",
       "643   1601  56.4958   NaN        0           0          15     1        -1  \n",
       "692   1601  56.4958   NaN        0           0          12     1        -1  \n",
       "826   1601  56.4958   NaN        0           0          12     1        -1  \n",
       "838   1601  56.4958   NaN        0           0          15     1        -1  "
      ]
     },
     "execution_count": 36,
     "metadata": {},
     "output_type": "execute_result"
    }
   ],
   "source": [
    "titanic[titanic[\"Ticket\"]=='1601']"
   ]
  },
  {
   "cell_type": "markdown",
   "metadata": {},
   "source": [
    "## Feature Engineering\n",
    "We have the features, now select the best one's"
   ]
  },
  {
   "cell_type": "markdown",
   "metadata": {},
   "source": [
    "### SlectKBest"
   ]
  },
  {
   "cell_type": "code",
   "execution_count": 37,
   "metadata": {
    "collapsed": true
   },
   "outputs": [],
   "source": [
    "import numpy as np\n",
    "from sklearn.feature_selection import SelectKBest, f_classif"
   ]
  },
  {
   "cell_type": "code",
   "execution_count": 38,
   "metadata": {
    "collapsed": false
   },
   "outputs": [],
   "source": [
    "predictors = [\"Pclass\", \"Sex\", \"Age\", \"SibSp\", \"Parch\", \"Fare\", \"Embarked\", \"FamilySize\", \"Title\", \"FamilyId\", \"NameLength\"]\n",
    "\n",
    "# Perform feature selection\n",
    "selector = SelectKBest(f_classif, k=5)\n",
    "selector.fit(titanic[predictors], titanic[\"Survived\"])\n",
    "\n",
    "# Get the raw p-values for each feature, and transform from p-values into scores\n",
    "scores = -np.log10(selector.pvalues_)\n"
   ]
  },
  {
   "cell_type": "code",
   "execution_count": 39,
   "metadata": {
    "collapsed": false
   },
   "outputs": [
    {
     "data": {
      "image/png": "[encoded data removed]",
      "text/plain": [
       "<matplotlib.figure.Figure at 0x7f9de0abcc50>"
      ]
     },
     "metadata": {},
     "output_type": "display_data"
    }
   ],
   "source": [
    "# Plot the scores.  See how \"Pclass\", \"Sex\", \"Title\", and \"Fare\" are the best?\n",
    "plt.bar(range(len(predictors)), scores)\n",
    "plt.xticks(range(len(predictors)), predictors, rotation='vertical')\n",
    "plt.show()\n"
   ]
  },
  {
   "cell_type": "code",
   "execution_count": 40,
   "metadata": {
    "collapsed": false
   },
   "outputs": [
    {
     "name": "stdout",
     "output_type": "stream",
     "text": [
      "0.817059483726\n"
     ]
    }
   ],
   "source": [
    "# Pick only the four best features.\n",
    "predictors = [\"Pclass\", \"Sex\", \"Fare\", \"Title\"]\n",
    "\n",
    "alg = RandomForestClassifier(random_state=1, n_estimators=50, min_samples_split=8, min_samples_leaf=4)\n",
    "# Compute the accuracy score for all the cross validation folds.  (much simpler than what we did before!)\n",
    "scores = cross_validation.cross_val_score(alg, titanic[predictors], titanic[\"Survived\"], cv=3)\n",
    "\n",
    "# Take the mean of the scores (because we have one for each fold)\n",
    "print(scores.mean())"
   ]
  },
  {
   "cell_type": "code",
   "execution_count": 41,
   "metadata": {
    "collapsed": false
   },
   "outputs": [
    {
     "name": "stdout",
     "output_type": "stream",
     "text": [
      "0.822671156004\n"
     ]
    },
    {
     "name": "stderr",
     "output_type": "stream",
     "text": [
      "/home/kaushiksk/.local/lib/python2.7/site-packages/ipykernel/__main__.py:37: FutureWarning: in the future, boolean array-likes will be handled as a boolean array index\n"
     ]
    }
   ],
   "source": [
    "from sklearn.ensemble import GradientBoostingClassifier\n",
    "import numpy as np\n",
    "\n",
    "# The algorithms we want to ensemble.\n",
    "# We're using the more linear predictors for the logistic regression, and everything with the gradient boosting classifier.\n",
    "algorithms = [\n",
    "    [GradientBoostingClassifier(random_state=1, n_estimators=25, max_depth=3), [\"Pclass\", \"Sex\", \"Age\", \"Fare\", \"Embarked\", \"FamilySize\", \"Title\", \"FamilyId\"]],\n",
    "    [LogisticRegression(random_state=1), [\"Pclass\", \"Sex\", \"Fare\", \"FamilySize\", \"Title\", \"Age\", \"Embarked\"]]\n",
    "]\n",
    "\n",
    "# Initialize the cross validation folds\n",
    "kf = KFold(n_splits=3, random_state=1)\n",
    "\n",
    "predictions = []\n",
    "for train, test in kf.split(titanic):\n",
    "    train_target = titanic[\"Survived\"].iloc[train]\n",
    "    full_test_predictions = []\n",
    "    # Make predictions for each algorithm on each fold\n",
    "    for alg, predictors in algorithms:\n",
    "        # Fit the algorithm on the training data.\n",
    "        alg.fit(titanic[predictors].iloc[train,:], train_target)\n",
    "        # Select and predict on the test fold.  \n",
    "        # The .astype(float) is necessary to convert the dataframe to all floats and avoid an sklearn error.\n",
    "        test_predictions = alg.predict_proba(titanic[predictors].iloc[test,:].astype(float))[:,1]\n",
    "        full_test_predictions.append(test_predictions)\n",
    "    # Use a simple ensembling scheme -- just average the predictions to get the final classification.\n",
    "    test_predictions = (full_test_predictions[0]*3 + full_test_predictions[1]) / 4\n",
    "    # Any value over .5 is assumed to be a 1 prediction, and below .5 is a 0 prediction.\n",
    "    test_predictions[test_predictions <= .5] = 0\n",
    "    test_predictions[test_predictions > .5] = 1\n",
    "    predictions.append(test_predictions)\n",
    "\n",
    "# Put all the predictions together into one array.\n",
    "predictions = np.concatenate(predictions, axis=0)\n",
    "\n",
    "# Compute accuracy by comparing to the training data.\n",
    "accuracy = sum(predictions[predictions == titanic[\"Survived\"]]) / len(predictions)\n",
    "print(accuracy)\n"
   ]
  },
  {
   "cell_type": "code",
   "execution_count": 42,
   "metadata": {
    "collapsed": false
   },
   "outputs": [
    {
     "name": "stdout",
     "output_type": "stream",
     "text": [
      "0.786756453423\n"
     ]
    }
   ],
   "source": [
    "from sklearn import svm\n",
    "\n",
    "predictors = [\"Pclass\", \"Sex\", \"Age\", \"Fare\", \"Embarked\",\"Title\"]\n",
    "clf = svm.SVC(kernel=\"linear\",random_state=1)\n",
    "#clf.fit(titanic[predictors], titanic[\"Survived\"]) \n",
    "scores = cross_validation.cross_val_score(clf, titanic[predictors], titanic[\"Survived\"], cv=3)\n",
    "print scores.mean()"
   ]
  },
  {
   "cell_type": "code",
   "execution_count": 43,
   "metadata": {
    "collapsed": false
   },
   "outputs": [
    {
     "name": "stdout",
     "output_type": "stream",
     "text": [
      "[[ -1.91281742e+01  -2.22571798e+01]\n",
      " [ -8.49745521e+00   4.13908930e+01]\n",
      " [ -1.90911707e+01  -2.14519180e+01]\n",
      " ..., \n",
      " [  6.08144179e+02  -1.13681106e+02]\n",
      " [ -1.53325117e+01   3.03653846e-01]\n",
      " [ -1.92318293e+01  -2.14158496e+01]]\n"
     ]
    }
   ],
   "source": [
    "from sklearn.decomposition import PCA\n",
    "\n",
    "predictors = [\"Pclass\", \"Sex\", \"Age\", \"Fare\", \"Embarked\", \"FamilySize\", \"Title\", \"FamilyId\"]\n",
    "pca = PCA(n_components=2)\n",
    "fit = pca.fit(titanic[predictors])\n",
    "Xn = pca.fit_transform(titanic[predictors])\n",
    "print Xn"
   ]
  },
  {
   "cell_type": "code",
   "execution_count": 59,
   "metadata": {
    "collapsed": false
   },
   "outputs": [
    {
     "name": "stdout",
     "output_type": "stream",
     "text": [
      "Here\n",
      "One fit\n",
      "Mesh created\n",
      "Done pre\n"
     ]
    },
    {
     "ename": "TypeError",
     "evalue": "xlabel() takes at least 1 argument (0 given)",
     "output_type": "error",
     "traceback": [
      "\u001b[0;31m---------------------------------------------------------------------------\u001b[0m",
      "\u001b[0;31mTypeError\u001b[0m                                 Traceback (most recent call last)",
      "\u001b[0;32m<ipython-input-59-09e7692f6663>\u001b[0m in \u001b[0;36m<module>\u001b[0;34m()\u001b[0m\n\u001b[1;32m     47\u001b[0m     \u001b[0;31m# Plot also the training points\u001b[0m\u001b[0;34m\u001b[0m\u001b[0;34m\u001b[0m\u001b[0m\n\u001b[1;32m     48\u001b[0m     \u001b[0mplt\u001b[0m\u001b[0;34m.\u001b[0m\u001b[0mscatter\u001b[0m\u001b[0;34m(\u001b[0m\u001b[0mX\u001b[0m\u001b[0;34m[\u001b[0m\u001b[0;34m:\u001b[0m\u001b[0;34m,\u001b[0m \u001b[0;36m0\u001b[0m\u001b[0;34m]\u001b[0m\u001b[0;34m,\u001b[0m \u001b[0mX\u001b[0m\u001b[0;34m[\u001b[0m\u001b[0;34m:\u001b[0m\u001b[0;34m,\u001b[0m \u001b[0;36m1\u001b[0m\u001b[0;34m]\u001b[0m\u001b[0;34m,\u001b[0m \u001b[0mc\u001b[0m\u001b[0;34m=\u001b[0m\u001b[0my\u001b[0m\u001b[0;34m,\u001b[0m \u001b[0mcmap\u001b[0m\u001b[0;34m=\u001b[0m\u001b[0mplt\u001b[0m\u001b[0;34m.\u001b[0m\u001b[0mcm\u001b[0m\u001b[0;34m.\u001b[0m\u001b[0mcoolwarm\u001b[0m\u001b[0;34m)\u001b[0m\u001b[0;34m\u001b[0m\u001b[0m\n\u001b[0;32m---> 49\u001b[0;31m     \u001b[0mplt\u001b[0m\u001b[0;34m.\u001b[0m\u001b[0mxlabel\u001b[0m\u001b[0;34m(\u001b[0m\u001b[0;34m)\u001b[0m\u001b[0;34m\u001b[0m\u001b[0m\n\u001b[0m\u001b[1;32m     50\u001b[0m     \u001b[0mplt\u001b[0m\u001b[0;34m.\u001b[0m\u001b[0mylabel\u001b[0m\u001b[0;34m(\u001b[0m\u001b[0;34m)\u001b[0m\u001b[0;34m\u001b[0m\u001b[0m\n\u001b[1;32m     51\u001b[0m     \u001b[0;31m#plt.xlim(xx.min(), xx.max())\u001b[0m\u001b[0;34m\u001b[0m\u001b[0;34m\u001b[0m\u001b[0m\n",
      "\u001b[0;31mTypeError\u001b[0m: xlabel() takes at least 1 argument (0 given)"
     ]
    },
    {
     "data": {
      "image/png": "[encoded data removed]",
      "text/plain": [
       "<matplotlib.figure.Figure at 0x7f9de03508d0>"
      ]
     },
     "metadata": {},
     "output_type": "display_data"
    }
   ],
   "source": [
    "\n",
    "from sklearn import svm\n",
    "\n",
    "# import some data to play with\n",
    "\n",
    "X = Xn  # we only take the first two features. We could\n",
    "                      # avoid this ugly slicing by using a two-dim dataset\n",
    "y = titanic[\"Survived\"]\n",
    "\n",
    "h = .02  # step size in the mesh\n",
    "\n",
    "# we create an instance of SVM and fit out data. We do not scale our\n",
    "# data since we want to plot the support vectors\n",
    "C = 1.0  # SVM regularization parameter\n",
    "print \"Here\"\n",
    "svc = svm.SVC(kernel='linear', C=C).fit(X, y)\n",
    "print \"One fit\"\n",
    "#rbf_svc = svm.SVC(kernel='rbf', gamma=0.7, C=C).fit(X, y)\n",
    "#poly_svc = svm.SVC(kernel='poly', degree=3, C=C).fit(X, y)\n",
    "#lin_svc = svm.LinearSVC(C=C).fit(X, y)\n",
    "\n",
    "# create a mesh to plot in\n",
    "x_min, x_max = X[:, 0].min() - 1, X[:, 0].max() + 1\n",
    "y_min, y_max = X[:, 1].min() - 1, X[:, 1].max() + 1\n",
    "xx, yy = np.meshgrid(np.arange(x_min, x_max, 0.2),\n",
    "                     np.arange(y_min, y_max, 0.2))\n",
    "print \"Mesh created\"\n",
    "# title for the plots\n",
    "titles = ['SVC with linear kernel',\n",
    "          'LinearSVC (linear kernel)',\n",
    "          'SVC with RBF kernel',\n",
    "          'SVC with polynomial (degree 3) kernel']\n",
    "\n",
    "\n",
    "for i, clf in enumerate([svc]):#, lin_svc, rbf_svc, poly_svc)):\n",
    "    # Plot the decision boundary. For that, we will assign a color to each\n",
    "    # point in the mesh [x_min, x_max]x[y_min, y_max].\n",
    "    #plt.subplot(2, 2, i + 1)\n",
    "    #plt.subplots_adjust(wspace=0.4, hspace=0.4)\n",
    "    \n",
    "    Z = clf.predict(np.c_[xx.ravel(), yy.ravel()])\n",
    "    print \"Done pre\"\n",
    "    # Put the result into a color plot\n",
    "    Z = Z.reshape(xx.shape)\n",
    "    plt.contourf(xx, yy, Z, cmap=plt.cm.coolwarm, alpha=0.8)\n",
    "\n",
    "    # Plot also the training points\n",
    "    plt.scatter(X[:, 0], X[:, 1], c=y, cmap=plt.cm.coolwarm)\n",
    "    plt.xlabel('PCA 1')\n",
    "    plt.ylabel('PCA 2')\n",
    "    #plt.xlim(xx.min(), xx.max())\n",
    "    #plt.ylim(yy.min(), yy.max())\n",
    "    plt.xticks(())\n",
    "    plt.yticks(())\n",
    "    #plt.title(titles[i])\n",
    "    print \"plot\", i \n",
    "\n",
    "plt.show()"
   ]
  },
  {
   "cell_type": "code",
   "execution_count": 52,
   "metadata": {
    "collapsed": false
   },
   "outputs": [
    {
     "data": {
      "text/plain": [
       "<enumerate at 0x7f9de19efdc0>"
      ]
     },
     "execution_count": 52,
     "metadata": {},
     "output_type": "execute_result"
    }
   ],
   "source": [
    "enumerate([2])"
   ]
  },
  {
   "cell_type": "code",
   "execution_count": 57,
   "metadata": {
    "collapsed": false
   },
   "outputs": [
    {
     "name": "stdout",
     "output_type": "stream",
     "text": [
      "0.661054994388\n"
     ]
    }
   ],
   "source": [
    "from sklearn import svm\n",
    "\n",
    "predictors = [\"Pclass\", \"Sex\", \"Age\", \"Fare\", \"Embarked\",\"Title\"]\n",
    "clf = svm.SVC(kernel=\"linear\",random_state=1)\n",
    "#clf.fit(titanic[predictors], titanic[\"Survived\"]) \n",
    "scores = cross_validation.cross_val_score(clf, Xn, titanic[\"Survived\"], cv=3)\n",
    "print scores.mean()"
   ]
  },
  {
   "cell_type": "code",
   "execution_count": 71,
   "metadata": {
    "collapsed": false
   },
   "outputs": [
    {
     "name": "stdout",
     "output_type": "stream",
     "text": [
      "[[ -1.91281742e+01  -2.22571798e+01  -6.93749566e+00]\n",
      " [ -8.49745521e+00   4.13908930e+01   7.04692431e+00]\n",
      " [ -1.90911707e+01  -2.14519180e+01  -2.94330761e+00]\n",
      " ..., \n",
      " [  6.08144179e+02  -1.13681106e+02   1.35368652e+01]\n",
      " [ -1.53325117e+01   3.03653846e-01  -3.59667966e+00]\n",
      " [ -1.92318293e+01  -2.14158496e+01   3.05882809e+00]]\n"
     ]
    }
   ],
   "source": [
    "from sklearn.decomposition import PCA\n",
    "\n",
    "predictors = [\"Pclass\", \"Sex\", \"Age\", \"Fare\", \"Embarked\", \"FamilySize\", \"Title\", \"FamilyId\"]\n",
    "pca = PCA(n_components=3)\n",
    "fit = pca.fit(titanic[predictors])\n",
    "Xn = pca.fit_transform(titanic[predictors])\n",
    "print Xn"
   ]
  },
  {
   "cell_type": "code",
   "execution_count": 98,
   "metadata": {
    "collapsed": false
   },
   "outputs": [
    {
     "name": "stdout",
     "output_type": "stream",
     "text": [
      "Here\n",
      "One fit\n",
      "Mesh created\n",
      "plot 0\n"
     ]
    },
    {
     "data": {
      "image/png": "[encoded data removed]",
      "text/plain": [
       "<matplotlib.figure.Figure at 0x7f9de02f9190>"
      ]
     },
     "metadata": {},
     "output_type": "display_data"
    }
   ],
   "source": [
    "\n",
    "from sklearn import svm\n",
    "from mpl_toolkits.mplot3d import Axes3D\n",
    "\n",
    "# import some data to play with\n",
    "\n",
    "X = Xn # we only take the first two features. We could\n",
    "                      # avoid this ugly slicing by using a two-dim dataset\n",
    "y = titanic[\"Survived\"]\n",
    "\n",
    "h = .02  # step size in the mesh\n",
    "\n",
    "# we create an instance of SVM and fit out data. We do not scale our\n",
    "# data since we want to plot the support vectors\n",
    "C = 1.0  # SVM regularization parameter\n",
    "\n",
    "svc = svm.SVC(kernel='linear', C=C).fit(X, y)\n",
    "\n",
    "#rbf_svc = svm.SVC(kernel='rbf', gamma=0.7, C=C).fit(X, y)\n",
    "#poly_svc = svm.SVC(kernel='poly', degree=3, C=C).fit(X, y)\n",
    "#lin_svc = svm.LinearSVC(C=C).fit(X, y)\n",
    "\n",
    "# create a mesh to plot in\n",
    "x_min, x_max = X[:, 0].min() - 1, X[:, 0].max() + 1\n",
    "y_min, y_max = X[:, 1].min() - 1, X[:, 1].max() + 1\n",
    "z_min, z_max = X[:, 2].min() - 1, X[:, 2].max() + 1\n",
    "\n",
    "# title for the plots\n",
    "titles = ['SVC with linear kernel',\n",
    "          'LinearSVC (linear kernel)',\n",
    "          'SVC with RBF kernel',\n",
    "          'SVC with polynomial (degree 3) kernel']\n",
    "\n",
    "fig = plt.figure()\n",
    "ax = Axes3D(fig)\n",
    "for i, clf in enumerate([svc]):#, lin_svc, rbf_svc, poly_svc)):\n",
    "    # Plot the decision boundary. For that, we will assign a color to each\n",
    "    # point in the mesh [x_min, x_max]x[y_min, y_max].\n",
    "    #plt.subplot(2, 2, i + 1)\n",
    "    #plt.subplots_adjust(wspace=0.4, hspace=0.4)\n",
    "    \n",
    "\n",
    "    # Plot also the training points\n",
    "    ax.scatter(X[:, 0], X[:, 1],X[:,2],c=y,zdir='z')\n",
    "    plt.xlabel('PCA 1')\n",
    "    plt.ylabel('PCA 2')\n",
    "    plt.ylabel('PCA 3')\n",
    "    #plt.xlim(xx.min(), xx.max())\n",
    "    #plt.ylim(yy.min(), yy.max())\n",
    "    plt.xticks(())\n",
    "    plt.yticks(())\n",
    "    #plt.zticks(())\n",
    "    \n",
    "    w = clf.coef_[0]\n",
    "    a = -w[0] / w[2]\n",
    "    b = -w[1] / w[2]\n",
    "    xx = np.linspace(x_min,x_max)\n",
    "    yy = (w[0]/w[2]) * xx - (clf.intercept_[0]) / w[1]\n",
    "    zz = a * xx  + b*yy - (clf.intercept_[0]) / w[2]\n",
    "\n",
    "    ax.plot(xx, yy, zz,zdir='z')\n",
    "        #plt.title(titles[i])\n",
    "    print \"plot\", i \n",
    "\n"
   ]
  },
  {
   "cell_type": "code",
   "execution_count": 87,
   "metadata": {
    "collapsed": true
   },
   "outputs": [
    {
     "data": {
      "text/plain": [
       "array([ -1.91281742e+01,  -8.49745521e+00,  -1.90911707e+01,\n",
       "        -1.15412891e+01,  -1.92330612e+01,  -1.90400791e+01,\n",
       "        -1.21052205e+01,  -7.51442535e+00,  -1.85400364e+01,\n",
       "        -1.50926241e+01,  -1.71850384e+01,  -1.64852089e+01,\n",
       "        -1.89664850e+01,  -5.09290120e-01,  -1.88899709e+01,\n",
       "        -1.82279644e+01,   2.73260494e+00,  -1.82645089e+01,\n",
       "        -1.74514779e+01,  -1.92443779e+01,  -1.61742809e+01,\n",
       "        -1.83711394e+01,  -1.88789069e+01,  -1.44306080e+01,\n",
       "        -7.62403832e+00,   1.03697937e+01,  -1.92496911e+01,\n",
       "         5.21207317e+01,  -1.91354931e+01,  -1.91349279e+01,\n",
       "        -1.59530007e+01,   4.49743504e+00,  -1.91575031e+01,\n",
       "        -1.93657258e+01,  -6.47029803e+00,  -1.18583963e+01,\n",
       "        -1.92489756e+01,  -1.89842567e+01,  -1.72123799e+01,\n",
       "        -1.83032385e+01,  -1.90637100e+01,  -1.68684354e+01,\n",
       "        -1.91354161e+01,   3.04289320e+01,  -1.89755473e+01,\n",
       "        -1.91086590e+01,  -1.78303428e+01,  -1.91575031e+01,\n",
       "        -1.67670504e+01,  -1.72545164e+01,   3.69546113e+01,\n",
       "        -1.90268458e+01,  -7.76520175e+00,  -1.60521980e+01,\n",
       "        -1.05676165e+01,  -1.44306080e+01,  -1.85627578e+01,\n",
       "        -1.92578614e+01,   4.28154878e+01,   4.69989971e+01,\n",
       "        -1.91423451e+01,  -7.02423638e+00,  -6.54975097e+00,\n",
       "         4.78070204e+01,  -1.57563310e+01,  -1.78567981e+01,\n",
       "        -1.87028579e+01,  -1.89302636e+01,  -4.09288909e+00,\n",
       "        -1.89484939e+01,  -1.87614863e+01,   4.69071558e+01,\n",
       "        -7.83355804e+00,  -1.79724695e+01,  -1.09267047e+01,\n",
       "        -1.91234862e+01,  -1.91349279e+01,  -1.91086590e+01,\n",
       "        -1.50294515e+01,  -1.83871371e+01,  -1.88401901e+01,\n",
       "        -1.88794142e+01,  -1.91511147e+01,  -1.24544763e+01,\n",
       "        -1.84916708e+01,   6.49209951e+01,   6.93689557e+01,\n",
       "        -1.91086590e+01,   5.20528839e+01,  -1.90375720e+01,\n",
       "        -1.91264307e+01,  -1.89998407e+01,  -1.03664654e+01,\n",
       "         7.27411841e+01,  -1.97958681e+01,  -1.91086590e+01,\n",
       "        -1.53393687e+01,  -9.58626484e+00,  -1.66521253e+01,\n",
       "        -1.61463699e+01,  -1.91316886e+01,  -1.91349279e+01,\n",
       "        -7.17730784e+00,  -1.90945885e+01,  -1.92696208e+01,\n",
       "        -1.91349279e+01,  -1.90491599e+01,  -1.91555069e+01,\n",
       "        -1.93126454e+01,  -1.63535226e+01,  -1.19573943e+01,\n",
       "        -1.77648551e+01,  -1.90020285e+01,  -1.86507243e+01,\n",
       "        -1.78187252e+01,  -1.90055512e+01,  -1.99160417e+01,\n",
       "        -1.69092920e+01,   2.17691826e+01,   1.51503839e-01,\n",
       "        -7.81327963e+00,  -1.91086590e+01,  -1.54267146e+01,\n",
       "        -1.83412425e+01,  -7.76377554e+00,  -1.82647125e+01,\n",
       "        -1.91607423e+01,  -1.91923065e+01,  -1.66481223e+01,\n",
       "        -1.95939116e+01,  -1.92242749e+01,  -1.91368411e+01,\n",
       "        -1.83320725e+01,  -1.60521980e+01,  -1.82111937e+01,\n",
       "        -1.78276238e+01,  -1.58172663e+01,  -1.15821458e+01,\n",
       "        -1.86966434e+01,  -6.91544437e+00,  -1.78577067e+01,\n",
       "        -1.90498961e+01,  -1.76933414e+01,  -1.91711528e+01,\n",
       "        -1.83423257e+01,  -1.40383256e+01,  -1.91341917e+01,\n",
       "         6.94965972e+01,  -1.61806601e+01,  -1.85029438e+01,\n",
       "        -1.87438087e+01,  -9.01044804e+00,  -1.95973820e+01,\n",
       "        -1.82117301e+01,  -1.92342966e+01,  -1.04210257e+01,\n",
       "        -1.89470870e+01,  -1.91442024e+01,  -1.90043158e+01,\n",
       "         1.39250866e+02,  -1.80115005e+01,  -1.80039772e+01,\n",
       "        -1.91199634e+01,  -1.88088266e+01,   3.70612418e+01,\n",
       "        -1.66193023e+01,  -1.10932102e+01,   4.70774702e+01,\n",
       "        -1.60617683e+01,  -1.08556177e+01,  -1.53577880e+01,\n",
       "         2.69706144e+00,  -1.80800449e+01,  -1.90055512e+01,\n",
       "        -1.57471303e+01,  -1.89440188e+01,   1.44487336e+02,\n",
       "        -1.59751280e+01,  -1.83000524e+01,  -2.06222002e+01,\n",
       "         1.39247884e+02,  -1.79157670e+01,   1.08860830e+01,\n",
       "         1.52189236e+02,  -1.62778918e+01,  -1.19604434e+01,\n",
       "        -1.78250296e+01,  -1.62574155e+01,  -1.80334646e+01,\n",
       "        -1.92771019e+01,  -1.83302827e+01,  -1.81045632e+01,\n",
       "        -1.89686905e+01,  -1.55790848e+01,  -1.60353658e+01,\n",
       "         3.95206946e+00,  -1.91607423e+01,  -1.92869841e+01,\n",
       "        -1.91575031e+01,  -1.81901826e+01,  -1.88616425e+01,\n",
       "         1.39244645e+02,  -1.94800570e+01,  -1.95606967e+01,\n",
       "        -1.89309415e+01,  -1.82222308e+01,  -1.78408286e+01,\n",
       "        -1.72444043e+01,  -1.89442421e+01,  -1.54109600e+01,\n",
       "        -1.92079281e+01,  -1.70228225e+01,  -1.91383134e+01,\n",
       "        -1.83000524e+01,  -1.91506031e+01,  -1.22158146e+00,\n",
       "        -1.91089425e+01,  -1.61181877e+01,  -7.54982596e+00,\n",
       "        -1.87259428e+01,  -1.88953980e+01,  -1.82467371e+01,\n",
       "        -1.95174092e+01,  -1.91349279e+01,  -5.31377468e+00,\n",
       "        -1.87805654e+01,  -1.85304536e+01,  -1.91116558e+01,\n",
       "        -1.80867914e+01,   1.44484354e+02,  -6.36672031e+00,\n",
       "        -1.91732786e+01,  -1.87302550e+01,   1.09541875e+01,\n",
       "        -1.86193123e+01,  -1.91905978e+01,  -1.63240874e+01,\n",
       "        -1.56283369e+01,  -1.85304536e+01,  -1.84768759e+01,\n",
       "        -1.80047737e+01,  -1.78271035e+01,  -1.87081711e+01,\n",
       "        -1.91596079e+01,  -1.92852346e+01,  -5.40294686e+00,\n",
       "        -1.90989524e+01,  -1.79122961e+01,  -1.16649870e+01,\n",
       "        -1.64914353e+01,  -1.92449439e+01,  -1.86898549e+01,\n",
       "        -1.65595352e+01,  -1.77626960e+01,  -1.72421431e+01,\n",
       "        -1.78754784e+01,  -6.98121819e+00,  -5.77474725e+00,\n",
       "         6.66785397e+01,  -1.64254047e+01,  -1.91607423e+01,\n",
       "         1.09927135e+01,  -7.31562638e+00,  -2.06915132e+01,\n",
       "        -1.91575031e+01,  -1.88325733e+01,   3.67884439e+01,\n",
       "        -1.90920525e+01,   5.14733231e+00,   2.50655509e+00,\n",
       "        -1.51972108e+01,  -2.04267109e+01,  -1.73727741e+01,\n",
       "        -1.55689686e+01,  -1.91575031e+01,  -7.80620710e+00,\n",
       "        -1.94586463e+01,  -2.04791392e+01,   2.64374620e+00,\n",
       "        -1.71291243e+01,  -1.98182970e+01,  -1.91420147e+01,\n",
       "        -1.86483815e+01,  -1.89487132e+01,  -1.60489916e+01,\n",
       "        -1.90936628e+01,  -1.88971860e+01,  -1.90282974e+01,\n",
       "        -1.85133134e+01,  -1.90508726e+01,  -7.00688500e+00,\n",
       "        -4.78743817e+00,  -1.84284657e+01,  -1.88980478e+01,\n",
       "        -1.90638409e+01,  -1.57563310e+01,  -1.91690027e+01,\n",
       "         2.71829961e+02,  -1.52823888e+01,   2.13124303e+01,\n",
       "        -1.91575031e+01,  -1.64999432e+01,  -2.03200804e+01,\n",
       "        -1.83729777e+01,  -1.91086590e+01,   2.71852137e+02,\n",
       "        -1.58584628e+00,  -1.71601134e+00,  -1.64164835e+01,\n",
       "        -1.08128039e+01,  -6.23788426e+00,   3.01271821e+02,\n",
       "        -1.59887435e+01,  -1.91349279e+01,  -1.62535874e+01,\n",
       "        -1.91032319e+01,  -1.59633392e+01,  -1.85479225e+01,\n",
       "         7.57801071e+00,   2.24649574e+00,  -1.91383134e+01,\n",
       "        -1.91171561e+01,  -1.84085212e+01,  -1.54065880e+01,\n",
       "         1.39244645e+02,   2.48829507e+00,  -2.00038972e+01,\n",
       "        -1.84013697e+01,  -1.70111893e+01,  -1.03749862e+01,\n",
       "        -1.64967040e+01,  -1.59341068e+01,   5.49745411e+00,\n",
       "        -1.71800756e+01,   2.30530304e+00,  -1.91349279e+01,\n",
       "        -9.14016345e+00,   2.20637168e+00,  -1.94107787e+01,\n",
       "        -1.47327277e+01,  -1.55613130e+01,   5.20351122e+01,\n",
       "        -1.82645089e+01,  -1.82111937e+01,  -1.84066829e+01,\n",
       "        -1.81901826e+01,  -1.84745306e+01,  -1.77218394e+01,\n",
       "        -1.73005691e+01,  -1.92531203e+01,  -1.88196317e+01,\n",
       "        -1.45157861e+01,  -1.89976644e+01,  -1.73842318e+01,\n",
       "        -1.92496911e+01,  -1.88616425e+01,  -1.09886536e+01,\n",
       "        -1.84389871e+01,  -1.91354931e+01,  -1.91354931e+01,\n",
       "         4.71610157e+01,  -1.57648505e+01,  -1.83048196e+01,\n",
       "        -1.94034174e+01,  -1.78303428e+01,  -1.92804874e+01,\n",
       "        -8.21268184e+00,  -1.92436624e+01,  -1.91575031e+01,\n",
       "        -8.58628777e+00,  -1.09704500e+01,  -1.91855698e+01,\n",
       "        -1.89487132e+01,   2.73386029e+00,  -7.53517958e+00,\n",
       "        -6.46498486e+00,  -1.91350741e+01,   1.55896408e+01,\n",
       "        -1.96547863e+01,  -1.89955612e+01,   1.80359832e+01,\n",
       "        -1.72954637e+01,  -1.92010405e+01,  -1.17286809e+01,\n",
       "        -1.91349279e+01,  -7.78024279e+00,   4.71767146e+01,\n",
       "        -1.84034436e+01,  -1.91642857e+01,  -1.82366248e+01,\n",
       "         3.35794581e+02,  -1.90275612e+01,  -1.91096751e+01,\n",
       "        -1.07940747e+00,  -1.75383995e+01,  -1.90453330e+01,\n",
       "        -1.91920907e+01,  -1.63697701e+01,  -1.85932449e+01,\n",
       "        -1.83188204e+01,  -1.93254427e+01,  -1.90731155e+01,\n",
       "        -1.86684960e+01,  -1.77697416e+01,  -1.88589025e+01,\n",
       "        -1.69981508e+01,  -1.95685160e+01,  -1.68141670e+01,\n",
       "        -1.90311047e+01,   1.44484354e+02,  -1.91349279e+01,\n",
       "        -1.93126489e+01,  -5.22265321e+00,  -2.04791392e+01,\n",
       "        -1.94143015e+01,  -1.91033458e+01,  -1.50236024e+01,\n",
       "        -1.80632738e+01,  -1.83000524e+01,  -1.60225154e+01,\n",
       "        -1.91354161e+01,  -1.90391850e+01,  -1.91562430e+01,\n",
       "        -1.80013057e+01,  -1.68387061e+01,  -1.92449439e+01,\n",
       "        -1.60344262e+01,  -1.58866936e+01,  -1.91607423e+01,\n",
       "        -1.91797459e+01,  -1.59552957e+01,  -1.77218394e+01,\n",
       "        -1.62832307e+01,  -1.90707492e+01,  -1.13361813e+01,\n",
       "         3.36188799e+02,   6.92833362e+01,   3.54249986e+02,\n",
       "         5.13210030e+01,  -1.87437146e+01,  -1.62838177e+01,\n",
       "        -1.87194685e+01,  -1.90920525e+01,  -1.82612696e+01,\n",
       "        -1.90980117e+01,  -6.08016317e+00,  -1.68772391e+01,\n",
       "        -1.60619262e+01,   3.62531847e+02,  -1.56964673e+01,\n",
       "         4.22613243e+01,  -1.70684363e+01,  -1.57869001e+01,\n",
       "        -5.66235725e+00,  -1.91086590e+01,  -1.91531879e+01,\n",
       "        -1.66128504e+01,  -1.16277027e+01,  -1.90781385e+01,\n",
       "        -1.91607423e+01,  -1.63107307e+01,  -1.92152894e+01,\n",
       "        -1.42572027e+01,  -1.86199439e+01,  -1.91086590e+01,\n",
       "        -1.94567326e+01,  -2.04791392e+01,  -1.64529047e+01,\n",
       "        -1.91650012e+01,   3.62607377e+02,  -1.92449439e+01,\n",
       "        -1.91820333e+01,   4.23199527e+01,  -1.80359543e+01,\n",
       "        -1.86942775e+01,  -1.16197311e+01,  -1.69981508e+01,\n",
       "        -1.92873632e+01,  -1.90921809e+01,  -1.79113307e+01,\n",
       "         4.70345406e+01,  -2.04791392e+01,  -1.94996374e+01,\n",
       "        -1.94634344e+01,  -4.89938183e+00,   1.44484354e+02,\n",
       "        -5.25514627e+00,  -1.59523145e+01,  -1.91442024e+01,\n",
       "        -1.74071996e+01,  -1.70684363e+01,  -1.91205417e+01,\n",
       "        -1.57622261e+01,  -1.28095795e+01,  -1.89842567e+01,\n",
       "        -1.80174537e+01,  -7.59421178e+00,  -1.79076479e+01,\n",
       "         2.71423285e+02,  -1.90808765e+01,  -1.88088266e+01,\n",
       "        -1.90331008e+01,  -1.91780821e+01,  -1.90034428e+01,\n",
       "        -5.52594277e+00,  -1.73909626e+00,  -1.61131458e+01,\n",
       "        -1.59552957e+01,  -1.66427533e+01,  -1.08200742e+01,\n",
       "        -1.91785141e+01,  -1.91086590e+01,  -1.61421882e+01,\n",
       "        -1.08061967e+01,  -1.91319833e+01,  -1.50202620e+01,\n",
       "        -1.87917167e+01,  -1.63669011e+01,  -1.61766002e+01,\n",
       "        -1.92060149e+01,  -4.58225402e+00,  -1.90282974e+01,\n",
       "        -1.92496911e+01,  -1.08705213e+01,  -1.92489756e+01,\n",
       "        -1.93828892e+01,  -1.90781385e+01,   1.73032041e+01,\n",
       "        -1.93254427e+01,   4.24924254e+02,  -1.55642955e+01,\n",
       "        -1.92489756e+01,  -1.90332079e+01,  -1.66460484e+01,\n",
       "        -1.90366200e+01,  -1.56105652e+01,  -1.62449720e+01,\n",
       "        -2.38088872e+00,  -1.80098616e+01,  -1.19159616e+01,\n",
       "        -8.50162006e+00,   2.71015986e-02,  -8.44189873e-03,\n",
       "        -1.61108264e+01,  -2.72942375e+00,  -1.66887746e+01,\n",
       "        -1.58744805e+01,  -1.81180650e+01,  -1.70520460e+01,\n",
       "        -1.38366146e+01,  -1.37331791e+00,  -1.60321069e+01,\n",
       "        -1.91472501e+01,  -1.91430606e+01,  -1.90456371e+01,\n",
       "        -1.65595352e+01,  -1.40581011e+01,   1.82815484e+01,\n",
       "        -7.07928048e+00,  -1.76425503e+01,  -1.91607423e+01,\n",
       "        -1.93481889e+01,  -1.81793308e+01,  -1.91086590e+01,\n",
       "        -1.91054197e+01,  -1.62745591e+01,  -1.89749821e+01,\n",
       "        -7.99517113e+00,  -1.92489756e+01,  -1.92131017e+01,\n",
       "        -1.92946388e+01,  -1.21271547e+01,  -1.61251526e+01,\n",
       "        -1.91575031e+01,  -1.88953980e+01,  -1.78499159e+01,\n",
       "        -1.83679001e+01,  -1.11353788e+01,  -1.80020014e+01,\n",
       "        -1.92010405e+01,  -1.52916210e+01,  -1.75898320e+00,\n",
       "        -1.65119441e+01,  -1.37853729e+01,  -1.89962863e+01,\n",
       "        -6.70814767e+00,  -1.82614598e+01,  -7.53494891e+00,\n",
       "        -1.90020285e+01,  -1.91086590e+01,  -1.93906407e+01,\n",
       "        -7.55659437e+00,  -1.95826071e+01,  -1.91372247e+01,\n",
       "        -1.61996852e+01,  -1.64878201e+01,  -1.48541461e+01,\n",
       "        -2.08532329e+01,  -1.92496911e+01,  -1.11269759e+01,\n",
       "         4.75825485e+02,  -1.91349279e+01,  -1.32551504e+01,\n",
       "        -1.93930069e+01,  -1.60801862e+01,  -1.79630224e+01,\n",
       "        -1.91704714e+01,  -1.52646171e+01,   3.00933426e+01,\n",
       "         5.45501067e+00,  -5.03976949e-01,  -1.92790151e+01,\n",
       "        -1.78271035e+01,  -1.91607423e+01,  -1.92330612e+01,\n",
       "         4.94118946e+02,  -1.81132493e+01,  -1.76862959e+01,\n",
       "         1.52132938e+02,  -1.86548558e+01,  -1.79902412e+01,\n",
       "        -1.17639850e+01,  -1.76363662e+01,  -1.90176124e+01,\n",
       "        -1.76128895e+01,  -1.55586720e+01,  -1.88812281e+01,\n",
       "        -7.06993286e+00,  -1.90993844e+01,  -1.91635873e+01,\n",
       "        -1.62916979e+01,  -1.96870498e+01,  -1.53456685e+01,\n",
       "        -2.04782522e+01,   4.77151792e+01,  -1.82612696e+01,\n",
       "        -1.92010405e+01,  -1.60403264e+01,   3.63494633e+01,\n",
       "        -1.77271525e+01,  -1.89998407e+01,  -8.58628777e+00,\n",
       "         4.78395814e+01,  -1.08556177e+01,   3.62607377e+02,\n",
       "        -7.75274317e+00,  -1.89749821e+01,  -1.49162617e+01,\n",
       "        -1.91938370e+01,  -1.91017390e+01,  -1.91349279e+01,\n",
       "        -1.63698512e+01,  -1.89189592e+01,  -1.91440109e+01,\n",
       "        -1.91501418e+01,  -7.86659488e+00,  -1.91349279e+01,\n",
       "        -1.78859774e+01,  -1.81756502e+01,  -1.69451873e+00,\n",
       "         1.92744625e+00,  -1.94629520e+01,  -1.64569268e+01,\n",
       "        -1.93452443e+01,  -1.89776403e+01,  -8.00876887e+00,\n",
       "        -1.82111937e+01,  -1.91555069e+01,  -1.93752352e+01,\n",
       "        -1.16042787e+01,  -1.40229177e+01,  -1.16629071e+01,\n",
       "        -1.94368128e+01,  -1.83178241e+01,  -2.04791392e+01,\n",
       "        -1.89777894e+01,  -1.90464578e+01,  -1.86224750e+01,\n",
       "         4.64293925e+01,   6.66676679e+01,  -1.90914901e+01,\n",
       "        -7.38967565e+00,  -1.87663165e+01,   4.69394601e+01,\n",
       "        -1.43836659e+01,   3.00347142e+01,   3.68239874e+01,\n",
       "        -1.85874218e+01,  -1.89742460e+01,   1.57688072e+01,\n",
       "        -1.08111262e+01,  -1.77549963e+01,  -1.08556177e+01,\n",
       "        -1.91963758e+01,  -1.65115482e+01,  -1.86058528e+01,\n",
       "        -1.93930069e+01,  -1.91603480e+01,  -1.94201386e+00,\n",
       "        -1.94256059e+01,   1.84747182e+01,  -1.61244165e+01,\n",
       "        -1.78270563e+01,  -1.91088410e+01,  -1.90963320e+01,\n",
       "        -1.62453679e+01,  -1.84761374e+01,  -1.62488187e+01,\n",
       "         5.44909596e+00,  -1.78567981e+01,  -1.19586246e+01,\n",
       "        -1.59552957e+01,  -1.19650268e+01,  -1.88822592e+01,\n",
       "        -1.86910309e+01,  -1.90168557e+01,   1.81070702e+01,\n",
       "        -1.86693883e+01,  -1.78404820e+01,  -1.92443656e+01,\n",
       "        -1.44530285e+01,  -1.90726712e+01,  -1.83711394e+01,\n",
       "        -1.86554874e+01,  -1.14044283e+01,  -1.88621418e+01,\n",
       "         5.63361721e+02,  -1.91596325e+01,  -1.59864242e+01,\n",
       "        -1.90632598e+01,   1.55098636e+01,  -1.69778281e+01,\n",
       "        -2.04791392e+01,  -1.81756502e+01,  -1.81756502e+01,\n",
       "        -1.77461776e+01,   6.88055729e+01,   6.66753004e+01,\n",
       "        -1.91349279e+01,  -1.91349279e+01,  -1.53675669e+01,\n",
       "        -7.17770254e+00,   3.01218506e+02,  -1.76560655e+01,\n",
       "        -1.91832687e+01,  -9.09665530e+00,  -1.67967742e+01,\n",
       "        -1.82968131e+01,  -1.12622543e+01,  -1.92140576e+01,\n",
       "        -1.61109075e+01,  -1.79474935e+01,  -1.89505012e+01,\n",
       "        -1.90460691e+01,   4.93694498e+02,  -1.74967726e+01,\n",
       "        -1.91519635e+01,  -1.83423257e+01,  -1.92152894e+01,\n",
       "        -5.81147120e+00,  -1.80098616e+01,  -1.94972711e+01,\n",
       "        -1.91068016e+01,   3.35799894e+02,  -1.89422459e+01,\n",
       "        -7.59087220e+00,  -1.37243403e+01,  -1.92019325e+01,\n",
       "        -1.63567619e+01,  -1.91265096e+01,  -1.87905555e+01,\n",
       "        -1.94974497e+01,  -1.92004669e+01,  -1.92496911e+01,\n",
       "         5.99737219e+02,  -1.89820483e+01,  -1.91607423e+01,\n",
       "        -1.79428434e+01,  -1.91628718e+01,   1.52732722e+01,\n",
       "        -1.89791601e+01,  -1.05570086e+01,  -1.53853387e+01,\n",
       "         6.08140939e+02,  -1.92256999e+01,  -1.91916286e+01,\n",
       "        -1.90221136e+01,   2.62597445e+00,   7.31916995e+01,\n",
       "        -7.30642284e+00,  -1.91607423e+01,  -1.58366176e+01,\n",
       "         1.39247884e+02,  -1.52495214e+01,  -1.90816126e+01,\n",
       "        -1.84599981e+01,  -1.64247986e+01,  -1.90487745e+01,\n",
       "        -1.92845191e+01,  -1.63758764e+01,  -1.83711394e+01,\n",
       "        -1.60350132e+01,   3.36245097e+02,  -1.85231362e+01,\n",
       "        -1.92740201e+01,  -1.92088221e+01,  -2.06737414e+01,\n",
       "        -1.89745502e+01,  -1.84599981e+01,  -1.15057456e+01,\n",
       "        -1.91007983e+01,  -1.65614138e+01,  -1.88148016e+01,\n",
       "         8.04168445e-02,  -1.91530883e+01,  -2.04782522e+01,\n",
       "        -1.90378555e+01,  -1.42087703e+01,  -1.96478051e+01,\n",
       "         4.77003899e+01,  -4.95088018e+00,  -1.89865440e+01,\n",
       "        -2.06373045e+01,  -1.83216088e+01,   3.70434701e+01,\n",
       "        -1.92970273e+01,  -1.08556177e+01,  -1.36693961e+01,\n",
       "        -1.91607423e+01,  -7.44868444e+00,  -1.77716671e+01,\n",
       "        -1.67756023e+01,  -1.92489756e+01,  -1.90531559e+01,\n",
       "        -1.88883524e+01,  -6.48418208e+00,  -1.88799136e+01,\n",
       "        -1.91086590e+01,  -1.09267047e+01,  -1.54191621e+01,\n",
       "        -1.89877795e+01,  -1.84771384e+01,  -1.52300033e+01,\n",
       "        -1.94993629e+01,  -1.88088266e+01,  -1.94426415e+01,\n",
       "         1.39244645e+02,  -1.92598184e+01,  -1.48368766e+01,\n",
       "        -5.28383735e+00,   1.18942818e-01,  -1.99730073e+01,\n",
       "        -1.75221174e+01,  -1.35395794e+01,  -1.63187742e+01,\n",
       "        -1.86940261e+01,   7.33128014e+00,  -1.63640460e+01,\n",
       "         3.62196258e+02,  -1.92489756e+01,  -1.82873445e+01,\n",
       "        -1.83855017e+01,  -1.64111747e+01,   1.39247884e+02,\n",
       "        -1.81934219e+01,  -1.85080002e+01,  -1.80876303e+01,\n",
       "        -1.19292961e+01,  -1.88616425e+01,  -1.81303776e+01,\n",
       "        -1.90993844e+01,  -1.18373913e+01,  -1.97153301e+01,\n",
       "        -1.92844838e+01,  -1.63756269e+01,  -1.90154191e+01,\n",
       "        -1.86605593e+01,  -1.89749821e+01,  -1.91349279e+01,\n",
       "        -6.79436710e+00,  -1.59811110e+01,  -1.92237866e+01,\n",
       "        -1.85785716e+01,  -1.86903993e+01,  -1.92256999e+01,\n",
       "         2.07414167e+00,  -1.82363676e+01,  -1.52043819e+01,\n",
       "         6.08144179e+02,  -1.53325117e+01,  -1.92318293e+01])"
      ]
     },
     "execution_count": 87,
     "metadata": {},
     "output_type": "execute_result"
    }
   ],
   "source": [
    "Xn[:,0]"
   ]
  },
  {
   "cell_type": "code",
   "execution_count": 68,
   "metadata": {
    "collapsed": false
   },
   "outputs": [
    {
     "data": {
      "text/plain": [
       "(891, 2)"
      ]
     },
     "execution_count": 68,
     "metadata": {},
     "output_type": "execute_result"
    }
   ],
   "source": [
    "Xn.shape"
   ]
  },
  {
   "cell_type": "markdown",
   "metadata": {},
   "source": [
    "## Neural Network"
   ]
  },
  {
   "cell_type": "code",
   "execution_count": 100,
   "metadata": {
    "collapsed": false
   },
   "outputs": [
    {
     "name": "stderr",
     "output_type": "stream",
     "text": [
      "Using TensorFlow backend.\n"
     ]
    }
   ],
   "source": [
    "from keras.models import Sequential\n",
    "from keras.layers import Dense"
   ]
  },
  {
   "cell_type": "code",
   "execution_count": 127,
   "metadata": {
    "collapsed": true
   },
   "outputs": [],
   "source": [
    "# create model\n",
    "predictors = [\"Pclass\", \"Sex\", \"Age\", \"Fare\", \"Embarked\", \"FamilySize\", \"Title\", \"FamilyId\"]\n",
    "model = Sequential()\n",
    "model.add(Dense(14, input_dim=len(predictors), init='uniform', activation='relu'))\n",
    "#model.add(Dense(8, init='uniform', activation='relu'))\n",
    "model.add(Dense(1, init='uniform', activation='sigmoid'))"
   ]
  },
  {
   "cell_type": "code",
   "execution_count": 128,
   "metadata": {
    "collapsed": true
   },
   "outputs": [],
   "source": [
    "\n",
    "# Compile model\n",
    "model.compile(loss='binary_crossentropy', optimizer='adam', metrics=['accuracy'])"
   ]
  },
  {
   "cell_type": "code",
   "execution_count": 129,
   "metadata": {
    "collapsed": false
   },
   "outputs": [
    {
     "data": {
      "text/plain": [
       "<keras.callbacks.History at 0x7f9d7ad15a10>"
      ]
     },
     "execution_count": 129,
     "metadata": {},
     "output_type": "execute_result"
    }
   ],
   "source": [
    "# Fit the model\n",
    "X = titanic[predictors].values\n",
    "Y = titanic[\"Survived\"].values\n",
    "model.fit(X, Y, nb_epoch=150, batch_size=10,verbose=0)\n"
   ]
  },
  {
   "cell_type": "code",
   "execution_count": 140,
   "metadata": {
    "collapsed": false
   },
   "outputs": [
    {
     "name": "stdout",
     "output_type": "stream",
     "text": [
      "\n",
      "acc: 83.50%\n"
     ]
    }
   ],
   "source": [
    "\n",
    "scores = model.evaluate(X, Y,verbose=0)\n",
    "print(\"\\n%s: %.2f%%\" % (model.metrics_names[1], scores[1]*100))"
   ]
  },
  {
   "cell_type": "markdown",
   "metadata": {},
   "source": [
    "## Test Time !"
   ]
  },
  {
   "cell_type": "code",
   "execution_count": 131,
   "metadata": {
    "collapsed": true
   },
   "outputs": [
    {
     "name": "stdout",
     "output_type": "stream",
     "text": [
      "1     240\n",
      "2      79\n",
      "3      72\n",
      "4      21\n",
      "7       2\n",
      "6       2\n",
      "10      1\n",
      "5       1\n",
      "Name: Title, dtype: int64\n"
     ]
    }
   ],
   "source": [
    "# First, we'll add titles to the test set.\n",
    "titles = titanic_test[\"Name\"].apply(get_title)\n",
    "# We're adding the Dona title to the mapping, because it's in the test set, but not the training set\n",
    "title_mapping = {\"Mr\": 1, \"Miss\": 2, \"Mrs\": 3, \"Master\": 4, \"Dr\": 5, \"Rev\": 6, \"Major\": 7, \"Col\": 7, \"Mlle\": 8, \"Mme\": 8, \"Don\": 9, \"Lady\": 10, \"Countess\": 10, \"Jonkheer\": 10, \"Sir\": 9, \"Capt\": 7, \"Ms\": 2, \"Dona\": 10}\n",
    "for k,v in title_mapping.items():\n",
    "    titles[titles == k] = v\n",
    "titanic_test[\"Title\"] = titles\n",
    "# Check the counts of each unique title.\n",
    "print(pandas.value_counts(titanic_test[\"Title\"]))\n",
    "\n",
    "# Now, we add the family size column.\n",
    "titanic_test[\"FamilySize\"] = titanic_test[\"SibSp\"] + titanic_test[\"Parch\"]\n",
    "\n",
    "# Now we can add family ids.\n",
    "# We'll use the same ids that we did earlier.\n",
    "\n",
    "\n",
    "family_ids = titanic_test.apply(get_family_id, axis=1)\n",
    "family_ids[titanic_test[\"FamilySize\"] < 3] = -1\n",
    "titanic_test[\"FamilyId\"] = family_ids\n",
    "titanic_test[\"NameLength\"] = titanic_test[\"Name\"].apply(lambda x: len(x))"
   ]
  },
  {
   "cell_type": "markdown",
   "metadata": {},
   "source": [
    "### Ensemble "
   ]
  },
  {
   "cell_type": "code",
   "execution_count": 155,
   "metadata": {
    "collapsed": true
   },
   "outputs": [],
   "source": [
    "predictors = [\"Pclass\", \"Sex\", \"Age\", \"Fare\", \"Embarked\", \"FamilySize\", \"Title\", \"FamilyId\"]\n",
    "\n",
    "algorithms = [\n",
    "    [GradientBoostingClassifier(random_state=1, n_estimators=25, max_depth=3), predictors],\n",
    "    [LogisticRegression(random_state=1), [\"Pclass\", \"Sex\", \"Fare\", \"FamilySize\", \"Title\", \"Age\", \"Embarked\"]]\n",
    "]\n",
    "\n",
    "full_predictions = []\n",
    "for alg, predictors in algorithms:\n",
    "    # Fit the algorithm using the full training data.\n",
    "    alg.fit(titanic[predictors], titanic[\"Survived\"])\n",
    "    # Predict using the test dataset.  We have to convert all the columns to floats to avoid an error.\n",
    "    predictions = alg.predict_proba(titanic_test[predictors].astype(float))[:,1]\n",
    "    full_predictions.append(predictions)\n",
    "\n",
    "# The gradient boosting classifier generates better predictions, so we weight it higher.\n",
    "predictions = (full_predictions[0] * 3 + full_predictions[1]) / 4\n",
    "predictions[predictions <= .5] = 0\n",
    "predictions[predictions > .5] = 1\n",
    "predictions = predictions.astype(int)\n",
    "submission = pandas.DataFrame({\n",
    "        \"PassengerId\": titanic_test[\"PassengerId\"],\n",
    "        \"Survived\": predictions\n",
    "    })\n",
    "\n",
    "submission.to_csv(\"kaggle_submission3_ensemble.csv\", index=False)"
   ]
  },
  {
   "cell_type": "markdown",
   "metadata": {},
   "source": [
    "## Random Forest "
   ]
  },
  {
   "cell_type": "code",
   "execution_count": 156,
   "metadata": {
    "collapsed": true
   },
   "outputs": [],
   "source": [
    "\n",
    "alg = RandomForestClassifier(random_state=1, n_estimators=50, min_samples_split=4, min_samples_leaf=2)\n",
    "alg.fit(titanic[predictors], titanic[\"Survived\"])\n",
    "predictions = alg.predict_proba(titanic_test[predictors].astype(float))[:,1]\n",
    "predictions[predictions <= .5] = 0\n",
    "predictions[predictions > .5] = 1\n",
    "predictions = predictions.astype(int)\n",
    "submission = pandas.DataFrame({\n",
    "        \"PassengerId\": titanic_test[\"PassengerId\"],\n",
    "        \"Survived\": predictions\n",
    "    })\n",
    "submission.to_csv(\"kaggle_submission4_RF.csv\", index=False)"
   ]
  },
  {
   "cell_type": "markdown",
   "metadata": {},
   "source": [
    "### Neural Network"
   ]
  },
  {
   "cell_type": "code",
   "execution_count": 157,
   "metadata": {
    "collapsed": false
   },
   "outputs": [],
   "source": [
    "predictors = [\"Pclass\", \"Sex\", \"Age\", \"Fare\", \"Embarked\", \"FamilySize\", \"Title\", \"FamilyId\"]\n",
    "predictions = model.predict(titanic_test[predictors].values.astype(float))\n",
    "predictions = [round(x) for x in predictions]\n",
    "predictions[predictions <= .5] = 0\n",
    "predictions[predictions > .5] = 1\n",
    "predictions = np.array(predictions).astype(int)\n",
    "submission = pandas.DataFrame({\n",
    "        \"PassengerId\": titanic_test[\"PassengerId\"],\n",
    "        \"Survived\": predictions\n",
    "    })\n",
    "submission.to_csv(\"kaggle_submission5_NN.csv\", index=False)"
   ]
  },
  {
   "cell_type": "code",
   "execution_count": null,
   "metadata": {
    "collapsed": true
   },
   "outputs": [],
   "source": []
  }
 ],
 "metadata": {
  "anaconda-cloud": {},
  "kernelspec": {
   "display_name": "Python [conda env:ml]",
   "language": "python",
   "name": "conda-env-ml-py"
  },
  "language_info": {
   "codemirror_mode": {
    "name": "ipython",
    "version": 2
   },
   "file_extension": ".py",
   "mimetype": "text/x-python",
   "name": "python",
   "nbconvert_exporter": "python",
   "pygments_lexer": "ipython2",
   "version": "2.7.12"
  }
 },
 "nbformat": 4,
 "nbformat_minor": 1
}
